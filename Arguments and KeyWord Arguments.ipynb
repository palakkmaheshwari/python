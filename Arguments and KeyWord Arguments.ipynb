{
 "cells": [
  {
   "cell_type": "markdown",
   "id": "deac4cfd",
   "metadata": {},
   "source": [
    "# `*args(Arguments) and **kwargs(Keyword Arguments)`"
   ]
  },
  {
   "cell_type": "markdown",
   "id": "52559b84",
   "metadata": {},
   "source": [
    "## `*args takes n number of arguments as inputs parameter and store it in a form of tuple, means *args makes n number of arguments as a single argument as a tuple`\n",
    "## `*args has special functionality that if we do operation element wise, it will treat element in its original type`"
   ]
  },
  {
   "cell_type": "markdown",
   "id": "bee6a855",
   "metadata": {},
   "source": [
    "- If *Args or **kwargs in the argument, pass n number of arguments in a function means if you do not pass any argument then also there is no error in taking the argument"
   ]
  },
  {
   "cell_type": "code",
   "execution_count": 1,
   "id": "0ab4b4fb",
   "metadata": {},
   "outputs": [],
   "source": [
    "# Create a function which takes 2 parameters and returns the sum and average\n",
    "\n",
    "def sumAvg(num1,num2):\n",
    "    return num1+num2, (num1+num2)/2"
   ]
  },
  {
   "cell_type": "code",
   "execution_count": 2,
   "id": "839b496c",
   "metadata": {},
   "outputs": [
    {
     "data": {
      "text/plain": [
       "(11, 5.5)"
      ]
     },
     "execution_count": 2,
     "metadata": {},
     "output_type": "execute_result"
    }
   ],
   "source": [
    "# Function call\n",
    "\n",
    "sumAvg(5,6)"
   ]
  },
  {
   "cell_type": "code",
   "execution_count": 3,
   "id": "c6ddc609",
   "metadata": {},
   "outputs": [
    {
     "ename": "TypeError",
     "evalue": "sumAvg() missing 1 required positional argument: 'num2'",
     "output_type": "error",
     "traceback": [
      "\u001b[1;31m---------------------------------------------------------------------------\u001b[0m",
      "\u001b[1;31mTypeError\u001b[0m                                 Traceback (most recent call last)",
      "Cell \u001b[1;32mIn[3], line 3\u001b[0m\n\u001b[0;32m      1\u001b[0m \u001b[38;5;66;03m# Function call with missing arguments, it will throw the error\u001b[39;00m\n\u001b[1;32m----> 3\u001b[0m \u001b[43msumAvg\u001b[49m\u001b[43m(\u001b[49m\u001b[38;5;241;43m4\u001b[39;49m\u001b[43m)\u001b[49m\n",
      "\u001b[1;31mTypeError\u001b[0m: sumAvg() missing 1 required positional argument: 'num2'"
     ]
    }
   ],
   "source": [
    "# Function call with missing arguments, it will throw the error\n",
    "\n",
    "sumAvg(4)"
   ]
  },
  {
   "cell_type": "code",
   "execution_count": 4,
   "id": "f49d6a02",
   "metadata": {},
   "outputs": [],
   "source": [
    "# Create a function which takes 2 parameters with default values and returns the sum and average\n",
    "\n",
    "def sumAvg(num1=0,num2=0):\n",
    "    return num1+num2, (num1+num2)/2"
   ]
  },
  {
   "cell_type": "code",
   "execution_count": 5,
   "id": "1aa069c6",
   "metadata": {},
   "outputs": [
    {
     "data": {
      "text/plain": [
       "(11, 5.5)"
      ]
     },
     "execution_count": 5,
     "metadata": {},
     "output_type": "execute_result"
    }
   ],
   "source": [
    "# Function call\n",
    "\n",
    "sumAvg(5,6)"
   ]
  },
  {
   "cell_type": "code",
   "execution_count": 6,
   "id": "a3f24e6e",
   "metadata": {},
   "outputs": [
    {
     "data": {
      "text/plain": [
       "(4, 2.0)"
      ]
     },
     "execution_count": 6,
     "metadata": {},
     "output_type": "execute_result"
    }
   ],
   "source": [
    "# Function call with missing parameter here it will not throw the error because default value is passed \n",
    "\n",
    "sumAvg(4)"
   ]
  },
  {
   "cell_type": "markdown",
   "id": "7170c931",
   "metadata": {},
   "source": [
    "### *args (Non-keyworded arguments)\n",
    "\n",
    "`It is denoted by single star in the parameter to take n number of inputs.`\n",
    "\n",
    "### *args (arbitary positional arguments)\n",
    "\n",
    "`1. It allows you to pass a variable number of positional arguments to a function` <br>\n",
    "`2. It collects all the extra positional arguments into a tuple` <br>\n",
    "`3. You can use any name instead of args but *(star) is required to indicate that it collects multiple argumemts`"
   ]
  },
  {
   "cell_type": "code",
   "execution_count": 1,
   "id": "59303edc",
   "metadata": {},
   "outputs": [],
   "source": [
    "# Create a function with non-kewworded arguments/parameters\n",
    "# print the length of passed arguments and return the sum and average\n",
    "\n",
    "def sumAvg1(*num):\n",
    "#     print(len(num))\n",
    "    return f\"{sum(num):.2f}, {sum(num)/len(num): .2%}\""
   ]
  },
  {
   "cell_type": "code",
   "execution_count": 2,
   "id": "5b6aa476",
   "metadata": {},
   "outputs": [
    {
     "data": {
      "text/plain": [
       "'4.00,  400.00%'"
      ]
     },
     "execution_count": 2,
     "metadata": {},
     "output_type": "execute_result"
    }
   ],
   "source": [
    "# Function call\n",
    "\n",
    "sumAvg1(4)"
   ]
  },
  {
   "cell_type": "code",
   "execution_count": 3,
   "id": "83159d29",
   "metadata": {},
   "outputs": [
    {
     "data": {
      "text/plain": [
       "'35.00,  583.33%'"
      ]
     },
     "execution_count": 3,
     "metadata": {},
     "output_type": "execute_result"
    }
   ],
   "source": [
    "# Function call\n",
    "\n",
    "sumAvg1(5,6,7,8,9,0)"
   ]
  },
  {
   "cell_type": "code",
   "execution_count": 12,
   "id": "07729e6d",
   "metadata": {},
   "outputs": [
    {
     "name": "stdout",
     "output_type": "stream",
     "text": [
      "(5, 6, 7, 8, 9, 0) 6 <class 'tuple'> 5 <class 'int'>\n"
     ]
    },
    {
     "data": {
      "text/plain": [
       "'35.00,  583.33%'"
      ]
     },
     "execution_count": 12,
     "metadata": {},
     "output_type": "execute_result"
    }
   ],
   "source": [
    "def sumAvg1(*num):\n",
    "    print(num, len(num), type(num), num[0], type(num[0]))\n",
    "    return f\"{sum(num):.2f}, {sum(num)/len(num): .2%}\"\n",
    "\n",
    "sumAvg1(5,6,7,8,9,0)"
   ]
  },
  {
   "cell_type": "code",
   "execution_count": 27,
   "id": "49e7f90e",
   "metadata": {},
   "outputs": [],
   "source": [
    "# Create a function with non-keyworded arguments/parameters\n",
    "# print the length of passed args and return the first(capital) and last(lower) character of the pass arguments\n",
    "\n",
    "def sub(*sub_nam):\n",
    "#     print(len(sub_nam))\n",
    "    return [i[0].upper()+i[-1].lower() for i in sub_nam]   "
   ]
  },
  {
   "cell_type": "code",
   "execution_count": 28,
   "id": "bef5546b",
   "metadata": {},
   "outputs": [
    {
     "data": {
      "text/plain": [
       "['At', 'Bt', 'Eo', 'Ms']"
      ]
     },
     "execution_count": 28,
     "metadata": {},
     "output_type": "execute_result"
    }
   ],
   "source": [
    "# Function call with 4 arguments\n",
    "\n",
    "sub('account','bst','eco','maths')"
   ]
  },
  {
   "cell_type": "code",
   "execution_count": 10,
   "id": "140dbc9f",
   "metadata": {},
   "outputs": [],
   "source": [
    "# Create a function with 1 parameter and 1 non-kewworded arguments/parameters\n",
    "# print the length of passed args and\n",
    "# return the 1st args and 2nd args as first(capital) and last(lower) character of the pass arguments with f-string\n",
    "\n",
    "def sub1(name,*sub_nam):\n",
    "    print(len(sub_nam))\n",
    "    return f'{name}: {[i[0].upper()+i[-1].lower() for i in sub_nam]}'   "
   ]
  },
  {
   "cell_type": "code",
   "execution_count": 13,
   "id": "c1ae2085",
   "metadata": {
    "scrolled": true
   },
   "outputs": [
    {
     "name": "stdout",
     "output_type": "stream",
     "text": [
      "4\n"
     ]
    },
    {
     "data": {
      "text/plain": [
       "\"Palak: ['At', 'Bt', 'Eo', 'Ms']\""
      ]
     },
     "execution_count": 13,
     "metadata": {},
     "output_type": "execute_result"
    }
   ],
   "source": [
    "# Function call with 1 args and 4 values in non-keywordrd args\n",
    "\n",
    "sub1('Palak','account','bst','eco','maths')"
   ]
  },
  {
   "cell_type": "code",
   "execution_count": 12,
   "id": "ddd146b2",
   "metadata": {},
   "outputs": [
    {
     "ename": "SyntaxError",
     "evalue": "invalid syntax (415550425.py, line 3)",
     "output_type": "error",
     "traceback": [
      "\u001b[1;36m  Input \u001b[1;32mIn [12]\u001b[1;36m\u001b[0m\n\u001b[1;33m    def sub1(name,*sub_nam='None'):\u001b[0m\n\u001b[1;37m                          ^\u001b[0m\n\u001b[1;31mSyntaxError\u001b[0m\u001b[1;31m:\u001b[0m invalid syntax\n"
     ]
    }
   ],
   "source": [
    "# We cannot take default value for the args\n",
    "\n",
    "def sub1(name,*sub_nam='None'):\n",
    "    print(len(sub_nam))\n",
    "    return f'{name}: {[i[0].upper()+i[-1].lower() for i in sub_nam]}'   "
   ]
  },
  {
   "cell_type": "markdown",
   "id": "4b514dbf",
   "metadata": {},
   "source": [
    "### **kwargs(Keyworded arguments)\n",
    "\n",
    "`It is denoted by double star in the parameter to take n number of inputs in the form of a key-value pair(dictionary).`\n",
    "\n",
    "### **kwargs(arbitary keyword arguments)\n",
    "\n",
    "`1. Keyargs allows you to pass number of keyword arguments to a function` <br>\n",
    "`2. It collects all the extra keyword args into a dictionary` <br>\n",
    "`3. You can use any name instead of kwargs but **(double star) is required to indicate that it collects multiple keyword arguments`"
   ]
  },
  {
   "cell_type": "code",
   "execution_count": 13,
   "id": "f971475a",
   "metadata": {},
   "outputs": [],
   "source": [
    "# Create a function named myFun() which takes keyworded args as parameter\n",
    "# Return frui if fruit else return veg\n",
    "\n",
    "def myFun(**fruits):\n",
    "    print(fruits)\n",
    "    if 'fruit' in fruits:\n",
    "        print(f\"{fruits['frui']}\")\n",
    "    else:\n",
    "        print(f\"{fruits['veg']}\")"
   ]
  },
  {
   "cell_type": "code",
   "execution_count": 14,
   "id": "20155e68",
   "metadata": {},
   "outputs": [
    {
     "name": "stdout",
     "output_type": "stream",
     "text": [
      "{'frui': ['apple', 'mango'], 'veg': ['tomato', 'peas']}\n",
      "['tomato', 'peas']\n"
     ]
    }
   ],
   "source": [
    "myFun(frui = ['apple', 'mango'],veg = [\"tomato\",\"peas\"])"
   ]
  },
  {
   "cell_type": "code",
   "execution_count": 11,
   "id": "7f689202",
   "metadata": {},
   "outputs": [],
   "source": [
    "# Create a function named myFun() which takes keyworded args as parameter\n",
    "# Return frui if frui else return veg\n",
    "\n",
    "def myFun(**fruits):\n",
    "    if 'frui' in fruits:\n",
    "        print(f\"{fruits['frui']}\")\n",
    "    else:\n",
    "        print(f\"{fruits['veg']}\")"
   ]
  },
  {
   "cell_type": "code",
   "execution_count": 12,
   "id": "9e63858e",
   "metadata": {},
   "outputs": [
    {
     "name": "stdout",
     "output_type": "stream",
     "text": [
      "['apple', 'mango']\n"
     ]
    }
   ],
   "source": [
    "myFun(frui = ['apple', 'mango'],veg = [\"tomato\",\"peas\"])"
   ]
  },
  {
   "cell_type": "code",
   "execution_count": 13,
   "id": "bed929ca",
   "metadata": {},
   "outputs": [],
   "source": [
    "# Create a function named myFun() which takes keyworded args as parameter\n",
    "# Return fruit[1] if appiee else return veg[0]\n",
    "\n",
    "def myFun(fruit = ['apple', 'mango'],veg = [\"tomato\",\"peas\"]):\n",
    "    if 'appiee' in fruit:\n",
    "        print(f\"{fruit[1]}\")\n",
    "    else:\n",
    "        print(f\"{veg[0]}\")"
   ]
  },
  {
   "cell_type": "code",
   "execution_count": 14,
   "id": "811b531a",
   "metadata": {},
   "outputs": [
    {
     "name": "stdout",
     "output_type": "stream",
     "text": [
      "tomato\n"
     ]
    }
   ],
   "source": [
    "myFun()"
   ]
  },
  {
   "cell_type": "code",
   "execution_count": 17,
   "id": "e6f46296",
   "metadata": {},
   "outputs": [],
   "source": [
    "# Create a function named subb() which takes 2 parameters - 1st is single parameter and 2nd is keyworded args\n",
    "# Return sub_nam(keys)\n",
    "\n",
    "def subb(name,**sub_nam):\n",
    "#     print(len(sub_nam))\n",
    "#     print(sub_nam)\n",
    "#     return f'{name}:{{i:y for i,y in sub_nam}}'\n",
    "    for i in sub_nam:\n",
    "        print(i) # key"
   ]
  },
  {
   "cell_type": "code",
   "execution_count": 18,
   "id": "6f5ff6c3",
   "metadata": {},
   "outputs": [
    {
     "name": "stdout",
     "output_type": "stream",
     "text": [
      "5\n",
      "{'Eng': 65, 'BSt': 62, 'Maths': 40, 'Eco': 80, 'Acc': 65}\n",
      "Eng\n",
      "BSt\n",
      "Maths\n",
      "Eco\n",
      "Acc\n"
     ]
    }
   ],
   "source": [
    "subb(\"Palak\",Eng = 65, BSt = 62, Maths = 40, Eco = 80, Acc = 65)"
   ]
  },
  {
   "cell_type": "code",
   "execution_count": 41,
   "id": "b0c57ed3",
   "metadata": {},
   "outputs": [],
   "source": [
    "# Create a function named subb() which takes 2 parameters - 1st is single parameter and 2nd is keyworded args\n",
    "# Return sub_nam(values)\n",
    "\n",
    "def subb(name,**sub_nam):\n",
    "    print(len(sub_nam))\n",
    "    print(sub_nam)\n",
    "#     return f'{name}:{{i:y for i,y in sub_nam}}'\n",
    "    for i in sub_nam:\n",
    "        print(sub_nam[i]) # value"
   ]
  },
  {
   "cell_type": "code",
   "execution_count": 42,
   "id": "7b908cbe",
   "metadata": {},
   "outputs": [
    {
     "name": "stdout",
     "output_type": "stream",
     "text": [
      "5\n",
      "{'Eng': 65, 'BSt': 62, 'Maths': 40, 'Eco': 80, 'Acc': 65}\n",
      "65\n",
      "62\n",
      "40\n",
      "80\n",
      "65\n"
     ]
    }
   ],
   "source": [
    "subb(\"Palak\",Eng = 65, BSt = 62, Maths = 40, Eco = 80, Acc = 65)"
   ]
  },
  {
   "cell_type": "code",
   "execution_count": 92,
   "id": "31ee0f14",
   "metadata": {},
   "outputs": [],
   "source": [
    "# Create a function named subb() which takes 2 parameters - 1st is single parameter and 2nd is keyworded args\n",
    "# Return sub_nam(items)\n",
    "\n",
    "def subbnam(name,**sub_nam):\n",
    "    print(len(sub_nam))\n",
    "    print(sub_nam)\n",
    "    \n",
    "    for i in sub_nam.items():\n",
    "        print(i) # key-value pair"
   ]
  },
  {
   "cell_type": "code",
   "execution_count": 71,
   "id": "6981adaf",
   "metadata": {},
   "outputs": [
    {
     "name": "stdout",
     "output_type": "stream",
     "text": [
      "5\n",
      "{'Eng': 65, 'BSt': 62, 'Maths': 40, 'Eco': 80, 'Acc': 65}\n",
      "('Eng', 65)\n",
      "('BSt', 62)\n",
      "('Maths', 40)\n",
      "('Eco', 80)\n",
      "('Acc', 65)\n"
     ]
    }
   ],
   "source": [
    "subbnam(\"Palak\",Eng = 65, BSt = 62, Maths = 40, Eco = 80, Acc = 65)"
   ]
  },
  {
   "cell_type": "code",
   "execution_count": 7,
   "id": "f91cc30a",
   "metadata": {},
   "outputs": [],
   "source": [
    "# Create a function with 1 parameter and 1 kewworded arguments/parameters\n",
    "# print the length of passed args and\n",
    "# return the 2nd args as dictionary format with f-string\n",
    "\n",
    "def subbnam1(name,**sub_nam):\n",
    "    print(len(sub_nam))\n",
    "    print(sub_nam)\n",
    "    \n",
    "    for i in sub_nam.items():\n",
    "        print(f'{i[0]} : {i[1]}')\n",
    "#         print(f'{name},{i[0]} : {i[1]}')"
   ]
  },
  {
   "cell_type": "code",
   "execution_count": 8,
   "id": "85fa898e",
   "metadata": {},
   "outputs": [
    {
     "name": "stdout",
     "output_type": "stream",
     "text": [
      "5\n",
      "{'Eng': 65, 'BSt': 62, 'Maths': 40, 'Eco': 80, 'Acc': 65}\n",
      "Eng : 65\n",
      "BSt : 62\n",
      "Maths : 40\n",
      "Eco : 80\n",
      "Acc : 65\n"
     ]
    }
   ],
   "source": [
    "subbnam1(\"Palak\",Eng = 65, BSt = 62, Maths = 40, Eco = 80, Acc = 65)"
   ]
  },
  {
   "cell_type": "code",
   "execution_count": 1,
   "id": "8731261a",
   "metadata": {},
   "outputs": [],
   "source": [
    "'''\n",
    "Ques: Write a function that returns sum of passed numbers\n",
    "\n",
    "'''\n",
    "\n",
    "def sum_args(*args):\n",
    "    '''\n",
    "    Input: args\n",
    "    Output: Sum of the input\n",
    "    '''\n",
    "    return sum(args)"
   ]
  },
  {
   "cell_type": "code",
   "execution_count": 5,
   "id": "2a8ec3b2",
   "metadata": {},
   "outputs": [
    {
     "data": {
      "text/plain": [
       "(90, int)"
      ]
     },
     "execution_count": 5,
     "metadata": {},
     "output_type": "execute_result"
    }
   ],
   "source": [
    "#\n",
    "\n",
    "sum_args(0,0,0,90), type(sum_args(0,0,0,90))"
   ]
  },
  {
   "cell_type": "code",
   "execution_count": 48,
   "id": "00df94e6",
   "metadata": {},
   "outputs": [],
   "source": [
    "'''\n",
    "Ques: Write a function named display_info that displays the information\n",
    "\n",
    "'''\n",
    "\n",
    "def display_info(**kwargs):\n",
    "    '''\n",
    "    Input: kwargs\n",
    "    Output: Display the input info\n",
    "    '''\n",
    "    for i in kwargs.items():\n",
    "        print(i[0], '=', i[1])"
   ]
  },
  {
   "cell_type": "code",
   "execution_count": 49,
   "id": "2ad0f473",
   "metadata": {},
   "outputs": [
    {
     "name": "stdout",
     "output_type": "stream",
     "text": [
      "Name = Palak\n",
      "Middle_name = \n",
      "Surname = Maheshwari\n"
     ]
    }
   ],
   "source": [
    "#\n",
    "\n",
    "display_info(Name = 'Palak', Middle_name = '', Surname = 'Maheshwari')"
   ]
  },
  {
   "cell_type": "code",
   "execution_count": 51,
   "id": "1c5acb56",
   "metadata": {},
   "outputs": [],
   "source": [
    "display_info()\n",
    "# It will not throw the error as no argument is passed because args and kwargs can take any number of arguments 0 also"
   ]
  },
  {
   "cell_type": "code",
   "execution_count": 24,
   "id": "1d808b56",
   "metadata": {},
   "outputs": [
    {
     "ename": "SyntaxError",
     "evalue": "invalid syntax (850306806.py, line 6)",
     "output_type": "error",
     "traceback": [
      "\u001b[1;36m  Input \u001b[1;32mIn [24]\u001b[1;36m\u001b[0m\n\u001b[1;33m    def display_info(**kwargs, **paa):\u001b[0m\n\u001b[1;37m                               ^\u001b[0m\n\u001b[1;31mSyntaxError\u001b[0m\u001b[1;31m:\u001b[0m invalid syntax\n"
     ]
    }
   ],
   "source": [
    "'''\n",
    "Ques: Write a function named display_info that displays the information\n",
    "\n",
    "'''\n",
    "\n",
    "def display_info(**kwargs, **paa):\n",
    "    '''\n",
    "    Input: kwargs\n",
    "    Output: Display the input info\n",
    "    '''\n",
    "    for i in kwargs.items():\n",
    "        print(i[0], '=', i[1])"
   ]
  },
  {
   "cell_type": "code",
   "execution_count": 15,
   "id": "22ac570e",
   "metadata": {},
   "outputs": [
    {
     "ename": "SyntaxError",
     "evalue": "invalid syntax (143691414.py, line 5)",
     "output_type": "error",
     "traceback": [
      "\u001b[1;36m  Cell \u001b[1;32mIn[15], line 5\u001b[1;36m\u001b[0m\n\u001b[1;33m    def display_info(**kwargs, *paa):\u001b[0m\n\u001b[1;37m                               ^\u001b[0m\n\u001b[1;31mSyntaxError\u001b[0m\u001b[1;31m:\u001b[0m invalid syntax\n"
     ]
    }
   ],
   "source": [
    "'''\n",
    "Ques: Write a function named display_info that displays the information\n",
    "\n",
    "'''\n",
    "def display_info(**kwargs, *paa):\n",
    "    '''\n",
    "    Input: kwargs\n",
    "    Output: Display the input info\n",
    "    '''\n",
    "    for i in kwargs.items():\n",
    "        print(i[0], '=', i[1])\n"
   ]
  },
  {
   "cell_type": "code",
   "execution_count": 27,
   "id": "cf15a5b0",
   "metadata": {},
   "outputs": [],
   "source": [
    "'''\n",
    "Ques: Write a function named display_info that displays the information\n",
    "\n",
    "'''\n",
    "\n",
    "def display_info(*maa, **paa):\n",
    "    '''\n",
    "    Input: kwargs\n",
    "    Output: Display the input info\n",
    "    '''\n",
    "    for i in kwargs.items():\n",
    "        print(i[0], '=', i[1])"
   ]
  },
  {
   "cell_type": "markdown",
   "id": "99e55156",
   "metadata": {},
   "source": [
    "#### If both args and kwargs are there in a function parameter, then args should be before kwargs else it will throw the error"
   ]
  },
  {
   "cell_type": "code",
   "execution_count": 16,
   "id": "772a5932",
   "metadata": {},
   "outputs": [],
   "source": [
    "'''\n",
    "Ques: Write a function named display_info that displays the information\n",
    "\n",
    "'''\n",
    "\n",
    "def display_info(*maa, num):\n",
    "    '''\n",
    "    Input: kwargs\n",
    "    Output: Display the input info\n",
    "    '''\n",
    "    for i in kwargs.items():\n",
    "        print(i[0], '=', i[1])"
   ]
  },
  {
   "cell_type": "code",
   "execution_count": 17,
   "id": "cb000ce8",
   "metadata": {},
   "outputs": [
    {
     "ename": "SyntaxError",
     "evalue": "invalid syntax (1754719520.py, line 6)",
     "output_type": "error",
     "traceback": [
      "\u001b[1;36m  Cell \u001b[1;32mIn[17], line 6\u001b[1;36m\u001b[0m\n\u001b[1;33m    def display_info(**maa, beti):\u001b[0m\n\u001b[1;37m                            ^\u001b[0m\n\u001b[1;31mSyntaxError\u001b[0m\u001b[1;31m:\u001b[0m invalid syntax\n"
     ]
    }
   ],
   "source": [
    "'''\n",
    "Ques: Write a function named display_info that displays the information\n",
    "\n",
    "'''\n",
    "\n",
    "def display_info(**maa, beti):\n",
    "    '''\n",
    "    Input: kwargs\n",
    "    Output: Display the input info\n",
    "    '''\n",
    "    for i in kwargs.items():\n",
    "        print(i[0], '=', i[1])"
   ]
  },
  {
   "cell_type": "code",
   "execution_count": 18,
   "id": "4d9db4b5",
   "metadata": {},
   "outputs": [],
   "source": [
    "'''\n",
    "Ques: Write a function named display_info that displays the information\n",
    "\n",
    "'''\n",
    "\n",
    "def display_info(*maa, beta, **paa):\n",
    "    '''\n",
    "    Input: kwargs\n",
    "    Output: Display the input info\n",
    "    '''\n",
    "    for i in kwargs.items():\n",
    "        print(i[0], '=', i[1])"
   ]
  },
  {
   "cell_type": "code",
   "execution_count": 19,
   "id": "81b7890f",
   "metadata": {},
   "outputs": [],
   "source": [
    "'''\n",
    "Ques: Write a function named display_info that displays the information\n",
    "\n",
    "'''\n",
    "\n",
    "def display_info(beti= 'palki', *maa, **paa):\n",
    "    '''\n",
    "    Input: kwargs\n",
    "    Output: Display the input info\n",
    "    '''\n",
    "    for i in kwargs.items():\n",
    "        print(i[0], '=', i[1])"
   ]
  },
  {
   "cell_type": "markdown",
   "id": "7741b922",
   "metadata": {},
   "source": [
    "#### **Kwargs as a parameter in a function will come at the end only"
   ]
  },
  {
   "cell_type": "code",
   "execution_count": 224,
   "id": "508083f3",
   "metadata": {},
   "outputs": [],
   "source": [
    "'''\n",
    "Ques: Write a function that display items, their price, their discount percentage, & items and their final price after discount\n",
    "\n",
    "'''\n",
    "\n",
    "def final_price(name, **kwargs):\n",
    "    '''\n",
    "    Input: items, their price, their discount percentage\n",
    "    Output: items and their final price after discount\n",
    "    '''\n",
    "    inp = list(kwargs.items())\n",
    "    price = list(inp[0][1].values())\n",
    "    item = list(inp[0][1].keys())\n",
    "    discount = list(inp[1][1].values())\n",
    "    \n",
    "    total_cart_price = 0\n",
    "    print(f\"Cart Owner: Mr./Mrs./Miss. {name}\\n\")\n",
    "    print('Price after discount:')\n",
    "    for i in range(len(item)):\n",
    "        print(f\"{item[i]} ${price[i] - ((price[i] * discount[i])/100)}\")\n",
    "        total_cart_price += price[i] - ((price[i] * discount[i])/100)\n",
    "    print(f\"\\nTotal Cart Price ${total_cart_price: .2f}\")"
   ]
  },
  {
   "cell_type": "code",
   "execution_count": 225,
   "id": "6dfe9aae",
   "metadata": {
    "scrolled": true
   },
   "outputs": [
    {
     "name": "stdout",
     "output_type": "stream",
     "text": [
      "Cart Owner: Mr./Mrs./Miss. Yogeshwar\n",
      "\n",
      "Price after discount:\n",
      "Banana $4.5\n",
      "Apple $1.9\n",
      "Chocolate $1.5\n",
      "\n",
      "Total Cart Price $ 7.90\n"
     ]
    }
   ],
   "source": [
    "final_price('Yogeshwar',\n",
    "            items_prices = {'Banana': 5, 'Apple': 2, 'Chocolate': 3},\n",
    "            items_discount = {'Banana': 10, 'Apple': 5, 'Chocolate': 50})"
   ]
  },
  {
   "cell_type": "code",
   "execution_count": null,
   "id": "a99c9ae5",
   "metadata": {},
   "outputs": [],
   "source": []
  },
  {
   "cell_type": "code",
   "execution_count": 13,
   "id": "a1d390f5",
   "metadata": {},
   "outputs": [],
   "source": [
    "def display_info(*kwargs, **paa):\n",
    "    '''\n",
    "    Input: kwargs\n",
    "    Output: Display the input info\n",
    "    '''\n",
    "    for i in kwargs:\n",
    "        print(i)"
   ]
  },
  {
   "cell_type": "code",
   "execution_count": 14,
   "id": "d275fcdd",
   "metadata": {},
   "outputs": [
    {
     "name": "stdout",
     "output_type": "stream",
     "text": [
      "p\n",
      "y\n"
     ]
    }
   ],
   "source": [
    "display_info('p','y')"
   ]
  },
  {
   "cell_type": "code",
   "execution_count": 5,
   "id": "2fc78819",
   "metadata": {},
   "outputs": [],
   "source": [
    "def display_info(*kwargs, payo, **paa):\n",
    "    '''\n",
    "    Input: kwargs\n",
    "    Output: Display the input info\n",
    "    '''\n",
    "    for i in kwargs:\n",
    "        print(i)\n",
    "        \n",
    "    print(payo, paa)"
   ]
  },
  {
   "cell_type": "code",
   "execution_count": 8,
   "id": "286ed7cd",
   "metadata": {},
   "outputs": [
    {
     "ename": "TypeError",
     "evalue": "display_info() missing 1 required keyword-only argument: 'payo'",
     "output_type": "error",
     "traceback": [
      "\u001b[1;31m---------------------------------------------------------------------------\u001b[0m",
      "\u001b[1;31mTypeError\u001b[0m                                 Traceback (most recent call last)",
      "Cell \u001b[1;32mIn[8], line 1\u001b[0m\n\u001b[1;32m----> 1\u001b[0m \u001b[43mdisplay_info\u001b[49m\u001b[43m(\u001b[49m\u001b[38;5;124;43m'\u001b[39;49m\u001b[38;5;124;43mpalak\u001b[39;49m\u001b[38;5;124;43m'\u001b[39;49m\u001b[43m,\u001b[49m\u001b[38;5;241;43m1\u001b[39;49m\u001b[43m,\u001b[49m\u001b[43m \u001b[49m\u001b[38;5;241;43m2\u001b[39;49m\u001b[43m,\u001b[49m\u001b[38;5;124;43m'\u001b[39;49m\u001b[38;5;124;43mssss\u001b[39;49m\u001b[38;5;124;43m'\u001b[39;49m\u001b[43m,\u001b[49m\u001b[43m \u001b[49m\u001b[38;5;241;43m123\u001b[39;49m\u001b[43m,\u001b[49m\u001b[43m \u001b[49m\u001b[43mpalak\u001b[49m\u001b[38;5;241;43m=\u001b[39;49m\u001b[43m \u001b[49m\u001b[38;5;124;43m'\u001b[39;49m\u001b[38;5;124;43mhfgsj\u001b[39;49m\u001b[38;5;124;43m'\u001b[39;49m\u001b[43m,\u001b[49m\u001b[43m \u001b[49m\u001b[43mkjhfsj\u001b[49m\u001b[38;5;241;43m=\u001b[39;49m\u001b[43m \u001b[49m\u001b[38;5;124;43m'\u001b[39;49m\u001b[38;5;124;43mjwhd\u001b[39;49m\u001b[38;5;124;43m'\u001b[39;49m\u001b[43m)\u001b[49m\n",
      "\u001b[1;31mTypeError\u001b[0m: display_info() missing 1 required keyword-only argument: 'payo'"
     ]
    }
   ],
   "source": [
    "display_info('palak',1, 2,'ssss', 123, palak= 'hfgsj', kjhfsj= 'jwhd')"
   ]
  },
  {
   "cell_type": "code",
   "execution_count": 6,
   "id": "e7773f66",
   "metadata": {},
   "outputs": [
    {
     "name": "stdout",
     "output_type": "stream",
     "text": [
      "palak\n",
      "1\n",
      "2\n",
      "ssss\n",
      "123\n",
      "palak {'palak': 'hfgsj', 'kjhfsj': 'jwhd'}\n"
     ]
    }
   ],
   "source": [
    "display_info('palak',1, 2,'ssss', 123, palak= 'hfgsj', kjhfsj= 'jwhd', payo= 'palak')"
   ]
  },
  {
   "cell_type": "code",
   "execution_count": 7,
   "id": "657591e4",
   "metadata": {},
   "outputs": [
    {
     "ename": "SyntaxError",
     "evalue": "invalid syntax (2971480920.py, line 1)",
     "output_type": "error",
     "traceback": [
      "\u001b[1;36m  Cell \u001b[1;32mIn[7], line 1\u001b[1;36m\u001b[0m\n\u001b[1;33m    def display_info(*kwargs, paa, *args):\u001b[0m\n\u001b[1;37m                                   ^\u001b[0m\n\u001b[1;31mSyntaxError\u001b[0m\u001b[1;31m:\u001b[0m invalid syntax\n"
     ]
    }
   ],
   "source": [
    "def display_info(*kwargs, paa, *args):\n",
    "    '''\n",
    "    Input: kwargs\n",
    "    Output: Display the input info\n",
    "    '''\n",
    "    for i in kwargs:\n",
    "        print(i)"
   ]
  },
  {
   "cell_type": "code",
   "execution_count": 18,
   "id": "0fbcfa78",
   "metadata": {},
   "outputs": [],
   "source": [
    "def display_info(**kwargs):\n",
    "    '''\n",
    "    Input: kwargs\n",
    "    Output: Display the input info\n",
    "    '''\n",
    "    for i in kwargs.items():\n",
    "        print(i[0], '=', i[1])"
   ]
  },
  {
   "cell_type": "code",
   "execution_count": null,
   "id": "14e9c56f",
   "metadata": {},
   "outputs": [],
   "source": []
  },
  {
   "cell_type": "code",
   "execution_count": null,
   "id": "2fa77c04",
   "metadata": {},
   "outputs": [],
   "source": []
  }
 ],
 "metadata": {
  "kernelspec": {
   "display_name": "Python 3 (ipykernel)",
   "language": "python",
   "name": "python3"
  },
  "language_info": {
   "codemirror_mode": {
    "name": "ipython",
    "version": 3
   },
   "file_extension": ".py",
   "mimetype": "text/x-python",
   "name": "python",
   "nbconvert_exporter": "python",
   "pygments_lexer": "ipython3",
   "version": "3.10.13"
  }
 },
 "nbformat": 4,
 "nbformat_minor": 5
}
