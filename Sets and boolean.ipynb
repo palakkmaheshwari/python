{
 "cells": [
  {
   "cell_type": "markdown",
   "id": "51bdf5f6",
   "metadata": {},
   "source": [
    "# Set\n",
    "`A set is a mutable unordered data structure so it does not preserve the insertion order,` <br>\n",
    "`Set gives unique values only` <br>\n",
    "`It works on The ASCII(American Standard Code for Information Interchange) Character Set.`<br>\n",
    "\n",
    "\n",
    "`Set does the operations in an unordered way and stores the output according to ASCII order`"
   ]
  },
  {
   "cell_type": "code",
   "execution_count": 1,
   "id": "3071e814",
   "metadata": {},
   "outputs": [],
   "source": [
    "# Empty Dictionary\n",
    "\n",
    "a = {}"
   ]
  },
  {
   "cell_type": "code",
   "execution_count": 2,
   "id": "da0c71e8",
   "metadata": {},
   "outputs": [
    {
     "data": {
      "text/plain": [
       "dict"
      ]
     },
     "execution_count": 2,
     "metadata": {},
     "output_type": "execute_result"
    }
   ],
   "source": [
    "type(a)"
   ]
  },
  {
   "cell_type": "code",
   "execution_count": 3,
   "id": "721c72d8",
   "metadata": {},
   "outputs": [],
   "source": [
    "# Empty set\n",
    "\n",
    "b = set()"
   ]
  },
  {
   "cell_type": "code",
   "execution_count": 4,
   "id": "668b7c14",
   "metadata": {},
   "outputs": [
    {
     "data": {
      "text/plain": [
       "set"
      ]
     },
     "execution_count": 4,
     "metadata": {},
     "output_type": "execute_result"
    }
   ],
   "source": [
    "type(b)"
   ]
  },
  {
   "cell_type": "code",
   "execution_count": 1,
   "id": "c6dd4355",
   "metadata": {},
   "outputs": [],
   "source": [
    "lst = [87,1,2,33,34,33,3,3,5,6,7,8,8,8,8]"
   ]
  },
  {
   "cell_type": "code",
   "execution_count": 2,
   "id": "20c263c3",
   "metadata": {},
   "outputs": [
    {
     "data": {
      "text/plain": [
       "{1, 2, 3, 5, 6, 7, 8, 33, 34, 87}"
      ]
     },
     "execution_count": 2,
     "metadata": {},
     "output_type": "execute_result"
    }
   ],
   "source": [
    "# Set always gives the unique values and does not give duplicate value\n",
    "\n",
    "set(lst)"
   ]
  },
  {
   "cell_type": "code",
   "execution_count": 3,
   "id": "70d98718",
   "metadata": {},
   "outputs": [
    {
     "data": {
      "text/plain": [
       "10"
      ]
     },
     "execution_count": 3,
     "metadata": {},
     "output_type": "execute_result"
    }
   ],
   "source": [
    "len(set(lst))"
   ]
  },
  {
   "cell_type": "code",
   "execution_count": 4,
   "id": "984c787d",
   "metadata": {},
   "outputs": [
    {
     "name": "stdout",
     "output_type": "stream",
     "text": [
      "{1, 2, 33, 34, 3, 5, 6, 7, 8, 87}\n"
     ]
    }
   ],
   "source": [
    "bb = set(lst)\n",
    "print(bb)"
   ]
  },
  {
   "cell_type": "code",
   "execution_count": 5,
   "id": "5b13a6e7",
   "metadata": {},
   "outputs": [
    {
     "name": "stdout",
     "output_type": "stream",
     "text": [
      "1\n",
      "2\n",
      "33\n",
      "34\n",
      "3\n",
      "5\n",
      "6\n",
      "7\n",
      "8\n",
      "87\n"
     ]
    }
   ],
   "source": [
    "for i in bb:\n",
    "    print(i)"
   ]
  },
  {
   "cell_type": "code",
   "execution_count": 6,
   "id": "7e207a45",
   "metadata": {},
   "outputs": [
    {
     "ename": "TypeError",
     "evalue": "'set' object is not subscriptable",
     "output_type": "error",
     "traceback": [
      "\u001b[1;31m---------------------------------------------------------------------------\u001b[0m",
      "\u001b[1;31mTypeError\u001b[0m                                 Traceback (most recent call last)",
      "Cell \u001b[1;32mIn[6], line 2\u001b[0m\n\u001b[0;32m      1\u001b[0m \u001b[38;5;28;01mfor\u001b[39;00m i \u001b[38;5;129;01min\u001b[39;00m \u001b[38;5;28mrange\u001b[39m(\u001b[38;5;28mlen\u001b[39m(bb)):\n\u001b[1;32m----> 2\u001b[0m     \u001b[38;5;28mprint\u001b[39m(\u001b[43mbb\u001b[49m\u001b[43m[\u001b[49m\u001b[43mi\u001b[49m\u001b[43m]\u001b[49m)\n",
      "\u001b[1;31mTypeError\u001b[0m: 'set' object is not subscriptable"
     ]
    }
   ],
   "source": [
    "for i in range(len(bb)):\n",
    "    print(bb[i])"
   ]
  },
  {
   "cell_type": "code",
   "execution_count": 7,
   "id": "25ceeee4",
   "metadata": {},
   "outputs": [
    {
     "ename": "TypeError",
     "evalue": "'set' object is not subscriptable",
     "output_type": "error",
     "traceback": [
      "\u001b[1;31m---------------------------------------------------------------------------\u001b[0m",
      "\u001b[1;31mTypeError\u001b[0m                                 Traceback (most recent call last)",
      "Cell \u001b[1;32mIn[7], line 1\u001b[0m\n\u001b[1;32m----> 1\u001b[0m \u001b[43mbb\u001b[49m\u001b[43m[\u001b[49m\u001b[38;5;241;43m0\u001b[39;49m\u001b[43m:\u001b[49m\u001b[38;5;241;43m4\u001b[39;49m\u001b[43m]\u001b[49m\n",
      "\u001b[1;31mTypeError\u001b[0m: 'set' object is not subscriptable"
     ]
    }
   ],
   "source": [
    "bb[0:4]"
   ]
  },
  {
   "cell_type": "code",
   "execution_count": 8,
   "id": "c33bb6d3",
   "metadata": {},
   "outputs": [
    {
     "ename": "TypeError",
     "evalue": "set.pop() takes no arguments (1 given)",
     "output_type": "error",
     "traceback": [
      "\u001b[1;31m---------------------------------------------------------------------------\u001b[0m",
      "\u001b[1;31mTypeError\u001b[0m                                 Traceback (most recent call last)",
      "Cell \u001b[1;32mIn[8], line 1\u001b[0m\n\u001b[1;32m----> 1\u001b[0m \u001b[43mbb\u001b[49m\u001b[38;5;241;43m.\u001b[39;49m\u001b[43mpop\u001b[49m\u001b[43m(\u001b[49m\u001b[38;5;241;43m2\u001b[39;49m\u001b[43m)\u001b[49m\n",
      "\u001b[1;31mTypeError\u001b[0m: set.pop() takes no arguments (1 given)"
     ]
    }
   ],
   "source": [
    "bb.pop(2)"
   ]
  },
  {
   "cell_type": "markdown",
   "id": "770f3101",
   "metadata": {},
   "source": [
    "# Methods"
   ]
  },
  {
   "cell_type": "markdown",
   "id": "7806c4c9",
   "metadata": {},
   "source": [
    "### Add\n",
    "`It appends the set in sequence of ASCII character set.`"
   ]
  },
  {
   "cell_type": "code",
   "execution_count": 1,
   "id": "91326280",
   "metadata": {},
   "outputs": [],
   "source": [
    "bb = {99,6,123,7,0,'99','palak','Palak','PALAK','atharv',67,7,'86'}"
   ]
  },
  {
   "cell_type": "code",
   "execution_count": 2,
   "id": "ffd5c249",
   "metadata": {},
   "outputs": [],
   "source": [
    "# It appends the list in the sorted in the sequence of The ASCII Character Set.\n",
    "\n",
    "bb.add(9)"
   ]
  },
  {
   "cell_type": "code",
   "execution_count": 3,
   "id": "d82d6191",
   "metadata": {},
   "outputs": [
    {
     "data": {
      "text/plain": [
       "{0, 123, 6, 67, 7, '86', 9, 99, '99', 'PALAK', 'Palak', 'atharv', 'palak'}"
      ]
     },
     "execution_count": 3,
     "metadata": {},
     "output_type": "execute_result"
    }
   ],
   "source": [
    "bb"
   ]
  },
  {
   "cell_type": "code",
   "execution_count": 4,
   "id": "0a5f0103",
   "metadata": {},
   "outputs": [],
   "source": [
    "bb.add(10)"
   ]
  },
  {
   "cell_type": "code",
   "execution_count": 5,
   "id": "2d3f0cbc",
   "metadata": {},
   "outputs": [
    {
     "data": {
      "text/plain": [
       "{0, 10, 123, 6, 67, 7, '86', 9, 99, '99', 'PALAK', 'Palak', 'atharv', 'palak'}"
      ]
     },
     "execution_count": 5,
     "metadata": {},
     "output_type": "execute_result"
    }
   ],
   "source": [
    "bb"
   ]
  },
  {
   "cell_type": "code",
   "execution_count": 6,
   "id": "d9d6e6dc",
   "metadata": {},
   "outputs": [],
   "source": [
    "bb.add(0)"
   ]
  },
  {
   "cell_type": "code",
   "execution_count": 7,
   "id": "348f3322",
   "metadata": {},
   "outputs": [
    {
     "data": {
      "text/plain": [
       "{0, 10, 123, 6, 67, 7, '86', 9, 99, '99', 'PALAK', 'Palak', 'atharv', 'palak'}"
      ]
     },
     "execution_count": 7,
     "metadata": {},
     "output_type": "execute_result"
    }
   ],
   "source": [
    "bb"
   ]
  },
  {
   "cell_type": "code",
   "execution_count": 8,
   "id": "c4a1b949",
   "metadata": {},
   "outputs": [],
   "source": [
    "bb.add(0.1)"
   ]
  },
  {
   "cell_type": "code",
   "execution_count": 9,
   "id": "e0cc23e7",
   "metadata": {},
   "outputs": [
    {
     "data": {
      "text/plain": [
       "{0,\n",
       " 0.1,\n",
       " 10,\n",
       " 123,\n",
       " 6,\n",
       " 67,\n",
       " 7,\n",
       " '86',\n",
       " 9,\n",
       " 99,\n",
       " '99',\n",
       " 'PALAK',\n",
       " 'Palak',\n",
       " 'atharv',\n",
       " 'palak'}"
      ]
     },
     "execution_count": 9,
     "metadata": {},
     "output_type": "execute_result"
    }
   ],
   "source": [
    "bb"
   ]
  },
  {
   "cell_type": "code",
   "execution_count": 10,
   "id": "74ed37ed",
   "metadata": {},
   "outputs": [
    {
     "name": "stdout",
     "output_type": "stream",
     "text": [
      "['My', 'Name', 'is', 'Vivek,', 'My', 'hobby', 'is', 'to', 'play', 'cricket']\n",
      "{'hobby', 'is', 'Vivek,', 'Name', 'cricket', 'My', 'play', 'to'}\n"
     ]
    },
    {
     "data": {
      "text/plain": [
       "'hobby is Vivek, Name cricket My play to'"
      ]
     },
     "execution_count": 10,
     "metadata": {},
     "output_type": "execute_result"
    }
   ],
   "source": [
    "# Split removes the spaces and convert the string into list\n",
    "\n",
    "a = 'My Name is Vivek, My      hobby is to play cricket'\n",
    "b = a.split()\n",
    "print(b)\n",
    "c = set(b) # Converting a list into set shuffle the list and makes a set and it contain only unique values.\n",
    "print(c)\n",
    "' '.join(c) # Set c is joined to make a string"
   ]
  },
  {
   "cell_type": "code",
   "execution_count": 11,
   "id": "c930dfaa",
   "metadata": {},
   "outputs": [
    {
     "data": {
      "text/plain": [
       "set"
      ]
     },
     "execution_count": 11,
     "metadata": {},
     "output_type": "execute_result"
    }
   ],
   "source": [
    "type(c)"
   ]
  },
  {
   "cell_type": "markdown",
   "id": "04df374e",
   "metadata": {},
   "source": [
    "### Pop\n",
    "`It removes the elements in an unordered way but keeps the remaining set in the same sequence`"
   ]
  },
  {
   "cell_type": "code",
   "execution_count": 9,
   "id": "e622bbeb",
   "metadata": {},
   "outputs": [
    {
     "data": {
      "text/plain": [
       "{'a', 'b', 'c', 'd', 'e'}"
      ]
     },
     "execution_count": 9,
     "metadata": {},
     "output_type": "execute_result"
    }
   ],
   "source": [
    "ss = {'b', 'a', 'c', 'e', 'd'}\n",
    "ss"
   ]
  },
  {
   "cell_type": "code",
   "execution_count": 10,
   "id": "e4ff1527",
   "metadata": {},
   "outputs": [
    {
     "data": {
      "text/plain": [
       "'c'"
      ]
     },
     "execution_count": 10,
     "metadata": {},
     "output_type": "execute_result"
    }
   ],
   "source": [
    "ss.pop()"
   ]
  },
  {
   "cell_type": "code",
   "execution_count": 11,
   "id": "4017659c",
   "metadata": {},
   "outputs": [
    {
     "data": {
      "text/plain": [
       "{'a', 'b', 'd', 'e'}"
      ]
     },
     "execution_count": 11,
     "metadata": {},
     "output_type": "execute_result"
    }
   ],
   "source": [
    "ss"
   ]
  },
  {
   "cell_type": "code",
   "execution_count": 71,
   "id": "370bbd5f",
   "metadata": {},
   "outputs": [
    {
     "data": {
      "text/plain": [
       "'b'"
      ]
     },
     "execution_count": 71,
     "metadata": {},
     "output_type": "execute_result"
    }
   ],
   "source": [
    "ss.pop()"
   ]
  },
  {
   "cell_type": "code",
   "execution_count": 72,
   "id": "a0b02818",
   "metadata": {},
   "outputs": [
    {
     "data": {
      "text/plain": [
       "{'a', 'c', 'd'}"
      ]
     },
     "execution_count": 72,
     "metadata": {},
     "output_type": "execute_result"
    }
   ],
   "source": [
    "ss"
   ]
  },
  {
   "cell_type": "code",
   "execution_count": 73,
   "id": "d4d05d39",
   "metadata": {},
   "outputs": [
    {
     "data": {
      "text/plain": [
       "'c'"
      ]
     },
     "execution_count": 73,
     "metadata": {},
     "output_type": "execute_result"
    }
   ],
   "source": [
    "ss.pop()"
   ]
  },
  {
   "cell_type": "code",
   "execution_count": 74,
   "id": "0846e10f",
   "metadata": {},
   "outputs": [
    {
     "data": {
      "text/plain": [
       "{'a', 'd'}"
      ]
     },
     "execution_count": 74,
     "metadata": {},
     "output_type": "execute_result"
    }
   ],
   "source": [
    "ss"
   ]
  },
  {
   "cell_type": "code",
   "execution_count": 75,
   "id": "807c2786",
   "metadata": {},
   "outputs": [
    {
     "data": {
      "text/plain": [
       "'a'"
      ]
     },
     "execution_count": 75,
     "metadata": {},
     "output_type": "execute_result"
    }
   ],
   "source": [
    "ss.pop()"
   ]
  },
  {
   "cell_type": "code",
   "execution_count": 76,
   "id": "52a974ee",
   "metadata": {},
   "outputs": [
    {
     "data": {
      "text/plain": [
       "{'d'}"
      ]
     },
     "execution_count": 76,
     "metadata": {},
     "output_type": "execute_result"
    }
   ],
   "source": [
    "ss"
   ]
  },
  {
   "cell_type": "code",
   "execution_count": 44,
   "id": "0984ba96",
   "metadata": {},
   "outputs": [
    {
     "data": {
      "text/plain": [
       "{'My', 'Name', 'Vivek,', 'cricket', 'hobby', 'is', 'play', 'to'}"
      ]
     },
     "execution_count": 44,
     "metadata": {},
     "output_type": "execute_result"
    }
   ],
   "source": [
    "c = {'My', 'Name', 'Vivek,', 'cricket', 'hobby', 'is', 'play', 'to'}\n",
    "c"
   ]
  },
  {
   "cell_type": "code",
   "execution_count": 45,
   "id": "dddac23e",
   "metadata": {
    "scrolled": true
   },
   "outputs": [
    {
     "data": {
      "text/plain": [
       "'Name'"
      ]
     },
     "execution_count": 45,
     "metadata": {},
     "output_type": "execute_result"
    }
   ],
   "source": [
    "# pop removes the 1st element in the Set.\n",
    "\n",
    "c.pop()"
   ]
  },
  {
   "cell_type": "code",
   "execution_count": 46,
   "id": "cfe9ed17",
   "metadata": {
    "scrolled": true
   },
   "outputs": [
    {
     "data": {
      "text/plain": [
       "{'My', 'Vivek,', 'cricket', 'hobby', 'is', 'play', 'to'}"
      ]
     },
     "execution_count": 46,
     "metadata": {},
     "output_type": "execute_result"
    }
   ],
   "source": [
    "c"
   ]
  },
  {
   "cell_type": "code",
   "execution_count": 47,
   "id": "287e0e6b",
   "metadata": {
    "scrolled": true
   },
   "outputs": [
    {
     "data": {
      "text/plain": [
       "'play'"
      ]
     },
     "execution_count": 47,
     "metadata": {},
     "output_type": "execute_result"
    }
   ],
   "source": [
    "c.pop()"
   ]
  },
  {
   "cell_type": "code",
   "execution_count": 48,
   "id": "21c264e3",
   "metadata": {},
   "outputs": [
    {
     "data": {
      "text/plain": [
       "{'My', 'Vivek,', 'cricket', 'hobby', 'is', 'to'}"
      ]
     },
     "execution_count": 48,
     "metadata": {},
     "output_type": "execute_result"
    }
   ],
   "source": [
    "c"
   ]
  },
  {
   "cell_type": "code",
   "execution_count": 49,
   "id": "4e108ef1",
   "metadata": {},
   "outputs": [
    {
     "data": {
      "text/plain": [
       "'cricket'"
      ]
     },
     "execution_count": 49,
     "metadata": {},
     "output_type": "execute_result"
    }
   ],
   "source": [
    "c.pop()"
   ]
  },
  {
   "cell_type": "code",
   "execution_count": 50,
   "id": "f5823915",
   "metadata": {},
   "outputs": [
    {
     "data": {
      "text/plain": [
       "{'My', 'Vivek,', 'hobby', 'is', 'to'}"
      ]
     },
     "execution_count": 50,
     "metadata": {},
     "output_type": "execute_result"
    }
   ],
   "source": [
    "c"
   ]
  },
  {
   "cell_type": "code",
   "execution_count": 51,
   "id": "ac27f1f1",
   "metadata": {},
   "outputs": [
    {
     "data": {
      "text/plain": [
       "'to'"
      ]
     },
     "execution_count": 51,
     "metadata": {},
     "output_type": "execute_result"
    }
   ],
   "source": [
    "c.pop()"
   ]
  },
  {
   "cell_type": "code",
   "execution_count": 52,
   "id": "f91a0e4a",
   "metadata": {},
   "outputs": [
    {
     "data": {
      "text/plain": [
       "{'My', 'Vivek,', 'hobby', 'is'}"
      ]
     },
     "execution_count": 52,
     "metadata": {},
     "output_type": "execute_result"
    }
   ],
   "source": [
    "c"
   ]
  },
  {
   "cell_type": "code",
   "execution_count": 53,
   "id": "310c7897",
   "metadata": {},
   "outputs": [
    {
     "data": {
      "text/plain": [
       "'is'"
      ]
     },
     "execution_count": 53,
     "metadata": {},
     "output_type": "execute_result"
    }
   ],
   "source": [
    "c.pop()"
   ]
  },
  {
   "cell_type": "code",
   "execution_count": 54,
   "id": "4976dd8d",
   "metadata": {},
   "outputs": [
    {
     "data": {
      "text/plain": [
       "{'My', 'Vivek,', 'hobby'}"
      ]
     },
     "execution_count": 54,
     "metadata": {},
     "output_type": "execute_result"
    }
   ],
   "source": [
    "c"
   ]
  },
  {
   "cell_type": "code",
   "execution_count": 55,
   "id": "3c79e2bd",
   "metadata": {},
   "outputs": [
    {
     "data": {
      "text/plain": [
       "'Vivek,'"
      ]
     },
     "execution_count": 55,
     "metadata": {},
     "output_type": "execute_result"
    }
   ],
   "source": [
    "c.pop()"
   ]
  },
  {
   "cell_type": "code",
   "execution_count": 56,
   "id": "d92e00d9",
   "metadata": {},
   "outputs": [
    {
     "data": {
      "text/plain": [
       "{'My', 'hobby'}"
      ]
     },
     "execution_count": 56,
     "metadata": {},
     "output_type": "execute_result"
    }
   ],
   "source": [
    "c"
   ]
  },
  {
   "cell_type": "code",
   "execution_count": 57,
   "id": "a862ee53",
   "metadata": {},
   "outputs": [
    {
     "data": {
      "text/plain": [
       "'My'"
      ]
     },
     "execution_count": 57,
     "metadata": {},
     "output_type": "execute_result"
    }
   ],
   "source": [
    "c.pop()"
   ]
  },
  {
   "cell_type": "code",
   "execution_count": 58,
   "id": "1657cdb6",
   "metadata": {},
   "outputs": [
    {
     "data": {
      "text/plain": [
       "{'hobby'}"
      ]
     },
     "execution_count": 58,
     "metadata": {},
     "output_type": "execute_result"
    }
   ],
   "source": [
    "c"
   ]
  },
  {
   "cell_type": "code",
   "execution_count": 12,
   "id": "f719bcec",
   "metadata": {},
   "outputs": [],
   "source": [
    "bb = {0.1,\n",
    " 10,\n",
    " 123,0,\n",
    " 6,\n",
    " 67,\n",
    " 7,\n",
    " '86',\n",
    " 9,\n",
    " 99,\n",
    " '99',\n",
    " 'PALAK',\n",
    " 'Palak',\n",
    " 'atharv',\n",
    " 'palak'}"
   ]
  },
  {
   "cell_type": "code",
   "execution_count": 13,
   "id": "3b7e7d02",
   "metadata": {},
   "outputs": [
    {
     "data": {
      "text/plain": [
       "0.1"
      ]
     },
     "execution_count": 13,
     "metadata": {},
     "output_type": "execute_result"
    }
   ],
   "source": [
    "bb.pop()"
   ]
  },
  {
   "cell_type": "code",
   "execution_count": 14,
   "id": "d226000d",
   "metadata": {},
   "outputs": [
    {
     "data": {
      "text/plain": [
       "{0, 10, 123, 6, 67, 7, '86', 9, 99, '99', 'PALAK', 'Palak', 'atharv', 'palak'}"
      ]
     },
     "execution_count": 14,
     "metadata": {},
     "output_type": "execute_result"
    }
   ],
   "source": [
    "bb"
   ]
  },
  {
   "cell_type": "code",
   "execution_count": 15,
   "id": "79494a98",
   "metadata": {},
   "outputs": [
    {
     "data": {
      "text/plain": [
       "0"
      ]
     },
     "execution_count": 15,
     "metadata": {},
     "output_type": "execute_result"
    }
   ],
   "source": [
    "bb.pop()"
   ]
  },
  {
   "cell_type": "code",
   "execution_count": 16,
   "id": "cf253b6d",
   "metadata": {},
   "outputs": [
    {
     "data": {
      "text/plain": [
       "{10, 123, 6, 67, 7, '86', 9, 99, '99', 'PALAK', 'Palak', 'atharv', 'palak'}"
      ]
     },
     "execution_count": 16,
     "metadata": {},
     "output_type": "execute_result"
    }
   ],
   "source": [
    "bb"
   ]
  },
  {
   "cell_type": "code",
   "execution_count": 17,
   "id": "920d27d1",
   "metadata": {},
   "outputs": [
    {
     "data": {
      "text/plain": [
       "'Palak'"
      ]
     },
     "execution_count": 17,
     "metadata": {},
     "output_type": "execute_result"
    }
   ],
   "source": [
    "bb.pop()"
   ]
  },
  {
   "cell_type": "code",
   "execution_count": 18,
   "id": "bd67601f",
   "metadata": {},
   "outputs": [
    {
     "data": {
      "text/plain": [
       "{10, 123, 6, 67, 7, '86', 9, 99, '99', 'PALAK', 'atharv', 'palak'}"
      ]
     },
     "execution_count": 18,
     "metadata": {},
     "output_type": "execute_result"
    }
   ],
   "source": [
    "bb"
   ]
  },
  {
   "cell_type": "code",
   "execution_count": 19,
   "id": "b9863c3a",
   "metadata": {},
   "outputs": [],
   "source": [
    "new_set = {7,123,1,2,0,3,'Yogeshwar','palak'}"
   ]
  },
  {
   "cell_type": "code",
   "execution_count": 20,
   "id": "695e234b",
   "metadata": {},
   "outputs": [
    {
     "data": {
      "text/plain": [
       "0"
      ]
     },
     "execution_count": 20,
     "metadata": {},
     "output_type": "execute_result"
    }
   ],
   "source": [
    "new_set.pop()"
   ]
  },
  {
   "cell_type": "code",
   "execution_count": 21,
   "id": "8f847254",
   "metadata": {},
   "outputs": [
    {
     "data": {
      "text/plain": [
       "{1, 123, 2, 3, 7, 'Yogeshwar', 'palak'}"
      ]
     },
     "execution_count": 21,
     "metadata": {},
     "output_type": "execute_result"
    }
   ],
   "source": [
    "new_set"
   ]
  },
  {
   "cell_type": "code",
   "execution_count": 22,
   "id": "b732a667",
   "metadata": {},
   "outputs": [
    {
     "data": {
      "text/plain": [
       "1"
      ]
     },
     "execution_count": 22,
     "metadata": {},
     "output_type": "execute_result"
    }
   ],
   "source": [
    "new_set.pop()"
   ]
  },
  {
   "cell_type": "code",
   "execution_count": 23,
   "id": "e5997670",
   "metadata": {},
   "outputs": [
    {
     "data": {
      "text/plain": [
       "{123, 2, 3, 7, 'Yogeshwar', 'palak'}"
      ]
     },
     "execution_count": 23,
     "metadata": {},
     "output_type": "execute_result"
    }
   ],
   "source": [
    "new_set"
   ]
  },
  {
   "cell_type": "code",
   "execution_count": 24,
   "id": "48045ab7",
   "metadata": {},
   "outputs": [
    {
     "data": {
      "text/plain": [
       "[2, 3, 'Yogeshwar', 7, 'palak', 123]"
      ]
     },
     "execution_count": 24,
     "metadata": {},
     "output_type": "execute_result"
    }
   ],
   "source": [
    "list(new_set)"
   ]
  },
  {
   "cell_type": "code",
   "execution_count": 25,
   "id": "d90efa35",
   "metadata": {},
   "outputs": [
    {
     "data": {
      "text/plain": [
       "2"
      ]
     },
     "execution_count": 25,
     "metadata": {},
     "output_type": "execute_result"
    }
   ],
   "source": [
    "new_set.pop()"
   ]
  },
  {
   "cell_type": "code",
   "execution_count": 26,
   "id": "dcec2568",
   "metadata": {},
   "outputs": [
    {
     "data": {
      "text/plain": [
       "{123, 3, 7, 'Yogeshwar', 'palak'}"
      ]
     },
     "execution_count": 26,
     "metadata": {},
     "output_type": "execute_result"
    }
   ],
   "source": [
    "new_set"
   ]
  },
  {
   "cell_type": "code",
   "execution_count": 27,
   "id": "04cd2616",
   "metadata": {},
   "outputs": [
    {
     "data": {
      "text/plain": [
       "3"
      ]
     },
     "execution_count": 27,
     "metadata": {},
     "output_type": "execute_result"
    }
   ],
   "source": [
    "new_set.pop()"
   ]
  },
  {
   "cell_type": "code",
   "execution_count": 28,
   "id": "e84bdec5",
   "metadata": {},
   "outputs": [
    {
     "data": {
      "text/plain": [
       "{123, 7, 'Yogeshwar', 'palak'}"
      ]
     },
     "execution_count": 28,
     "metadata": {},
     "output_type": "execute_result"
    }
   ],
   "source": [
    "new_set"
   ]
  },
  {
   "cell_type": "code",
   "execution_count": 29,
   "id": "687339d6",
   "metadata": {},
   "outputs": [
    {
     "data": {
      "text/plain": [
       "{0, 123, 6, 67, 7, '86', 99, '99', 'PALAK', 'Palak', 'atharv', 'palak'}"
      ]
     },
     "execution_count": 29,
     "metadata": {},
     "output_type": "execute_result"
    }
   ],
   "source": [
    "dd = {99,6,123,7,0,'99','palak','Palak','PALAK','atharv',67,7,'86'}\n",
    "dd"
   ]
  },
  {
   "cell_type": "code",
   "execution_count": 30,
   "id": "f4f26538",
   "metadata": {},
   "outputs": [
    {
     "data": {
      "text/plain": [
       "0"
      ]
     },
     "execution_count": 30,
     "metadata": {},
     "output_type": "execute_result"
    }
   ],
   "source": [
    "dd.pop()"
   ]
  },
  {
   "cell_type": "code",
   "execution_count": 31,
   "id": "4ed0d3fc",
   "metadata": {},
   "outputs": [
    {
     "data": {
      "text/plain": [
       "{123, 6, 67, 7, '86', 99, '99', 'PALAK', 'Palak', 'atharv', 'palak'}"
      ]
     },
     "execution_count": 31,
     "metadata": {},
     "output_type": "execute_result"
    }
   ],
   "source": [
    "dd"
   ]
  },
  {
   "cell_type": "code",
   "execution_count": 33,
   "id": "9ebe1aa1",
   "metadata": {},
   "outputs": [
    {
     "data": {
      "text/plain": [
       "'Palak'"
      ]
     },
     "execution_count": 33,
     "metadata": {},
     "output_type": "execute_result"
    }
   ],
   "source": [
    "dd.pop()"
   ]
  },
  {
   "cell_type": "code",
   "execution_count": 34,
   "id": "1220d507",
   "metadata": {},
   "outputs": [
    {
     "data": {
      "text/plain": [
       "{123, 6, 67, 7, '86', 99, '99', 'PALAK', 'atharv', 'palak'}"
      ]
     },
     "execution_count": 34,
     "metadata": {},
     "output_type": "execute_result"
    }
   ],
   "source": [
    "dd"
   ]
  },
  {
   "cell_type": "code",
   "execution_count": 107,
   "id": "bc91e261",
   "metadata": {},
   "outputs": [
    {
     "data": {
      "text/plain": [
       "{123, 6, 67, 7, '86', '99', 'PALAK', 'Palak', 'atharv', 'palak'}"
      ]
     },
     "execution_count": 107,
     "metadata": {},
     "output_type": "execute_result"
    }
   ],
   "source": [
    "dd"
   ]
  },
  {
   "cell_type": "code",
   "execution_count": 108,
   "id": "12ef1bbb",
   "metadata": {},
   "outputs": [
    {
     "data": {
      "text/plain": [
       "67"
      ]
     },
     "execution_count": 108,
     "metadata": {},
     "output_type": "execute_result"
    }
   ],
   "source": [
    "dd.pop()"
   ]
  },
  {
   "cell_type": "code",
   "execution_count": 109,
   "id": "5eb8cafd",
   "metadata": {},
   "outputs": [
    {
     "data": {
      "text/plain": [
       "'palak'"
      ]
     },
     "execution_count": 109,
     "metadata": {},
     "output_type": "execute_result"
    }
   ],
   "source": [
    "dd.pop()"
   ]
  },
  {
   "cell_type": "code",
   "execution_count": 110,
   "id": "a9fbc903",
   "metadata": {},
   "outputs": [
    {
     "data": {
      "text/plain": [
       "6"
      ]
     },
     "execution_count": 110,
     "metadata": {},
     "output_type": "execute_result"
    }
   ],
   "source": [
    "dd.pop()"
   ]
  },
  {
   "cell_type": "code",
   "execution_count": 111,
   "id": "d8af3add",
   "metadata": {},
   "outputs": [
    {
     "data": {
      "text/plain": [
       "{123, 7, '86', '99', 'PALAK', 'Palak', 'atharv'}"
      ]
     },
     "execution_count": 111,
     "metadata": {},
     "output_type": "execute_result"
    }
   ],
   "source": [
    "dd"
   ]
  },
  {
   "cell_type": "markdown",
   "id": "139d295a",
   "metadata": {},
   "source": [
    "### Remove\n",
    "``"
   ]
  },
  {
   "cell_type": "code",
   "execution_count": 35,
   "id": "efbe327a",
   "metadata": {},
   "outputs": [
    {
     "data": {
      "text/plain": [
       "{0, 123, 6, 67, 7, '86', 99, '99', 'PALAK', 'Palak', 'atharv', 'palak', 'yo'}"
      ]
     },
     "execution_count": 35,
     "metadata": {},
     "output_type": "execute_result"
    }
   ],
   "source": [
    "qq = {'yo',99,6,123,7,0,'99','palak','Palak','PALAK','atharv',67,7,'86'}\n",
    "qq"
   ]
  },
  {
   "cell_type": "code",
   "execution_count": 36,
   "id": "4a195cb8",
   "metadata": {},
   "outputs": [
    {
     "ename": "KeyError",
     "evalue": "'jsbedkw'",
     "output_type": "error",
     "traceback": [
      "\u001b[1;31m---------------------------------------------------------------------------\u001b[0m",
      "\u001b[1;31mKeyError\u001b[0m                                  Traceback (most recent call last)",
      "Cell \u001b[1;32mIn[36], line 1\u001b[0m\n\u001b[1;32m----> 1\u001b[0m \u001b[43mqq\u001b[49m\u001b[38;5;241;43m.\u001b[39;49m\u001b[43mremove\u001b[49m\u001b[43m(\u001b[49m\u001b[38;5;124;43m'\u001b[39;49m\u001b[38;5;124;43mjsbedkw\u001b[39;49m\u001b[38;5;124;43m'\u001b[39;49m\u001b[43m)\u001b[49m\n",
      "\u001b[1;31mKeyError\u001b[0m: 'jsbedkw'"
     ]
    }
   ],
   "source": [
    "qq.remove('jsbedkw')"
   ]
  },
  {
   "cell_type": "code",
   "execution_count": 37,
   "id": "b8afde03",
   "metadata": {},
   "outputs": [],
   "source": [
    "qq.remove(0)"
   ]
  },
  {
   "cell_type": "code",
   "execution_count": 38,
   "id": "94508fcb",
   "metadata": {},
   "outputs": [
    {
     "data": {
      "text/plain": [
       "{123, 6, 67, 7, '86', 99, '99', 'PALAK', 'Palak', 'atharv', 'palak', 'yo'}"
      ]
     },
     "execution_count": 38,
     "metadata": {},
     "output_type": "execute_result"
    }
   ],
   "source": [
    "qq"
   ]
  },
  {
   "cell_type": "code",
   "execution_count": 39,
   "id": "19165ad5",
   "metadata": {},
   "outputs": [],
   "source": [
    "qq.remove('99')"
   ]
  },
  {
   "cell_type": "code",
   "execution_count": 40,
   "id": "6be742b7",
   "metadata": {},
   "outputs": [
    {
     "data": {
      "text/plain": [
       "{123, 6, 67, 7, '86', 99, 'PALAK', 'Palak', 'atharv', 'palak', 'yo'}"
      ]
     },
     "execution_count": 40,
     "metadata": {},
     "output_type": "execute_result"
    }
   ],
   "source": [
    "qq"
   ]
  },
  {
   "cell_type": "code",
   "execution_count": 109,
   "id": "07adddc0",
   "metadata": {},
   "outputs": [
    {
     "ename": "TypeError",
     "evalue": "unhashable type: 'list'",
     "output_type": "error",
     "traceback": [
      "\u001b[1;31m---------------------------------------------------------------------------\u001b[0m",
      "\u001b[1;31mTypeError\u001b[0m                                 Traceback (most recent call last)",
      "Cell \u001b[1;32mIn[109], line 1\u001b[0m\n\u001b[1;32m----> 1\u001b[0m \u001b[43mqq\u001b[49m\u001b[38;5;241;43m.\u001b[39;49m\u001b[43mremove\u001b[49m\u001b[43m(\u001b[49m\u001b[43m[\u001b[49m\u001b[38;5;241;43m123\u001b[39;49m\u001b[43m,\u001b[49m\u001b[43m \u001b[49m\u001b[38;5;241;43m6\u001b[39;49m\u001b[43m]\u001b[49m\u001b[43m)\u001b[49m\n",
      "\u001b[1;31mTypeError\u001b[0m: unhashable type: 'list'"
     ]
    }
   ],
   "source": [
    "qq.remove([123, 6])"
   ]
  },
  {
   "cell_type": "markdown",
   "id": "5a5faf75",
   "metadata": {},
   "source": [
    "### Clear\n",
    "`It empty the set and list.`"
   ]
  },
  {
   "cell_type": "code",
   "execution_count": 27,
   "id": "e04ed39f",
   "metadata": {},
   "outputs": [],
   "source": [
    "hobby = set(b)"
   ]
  },
  {
   "cell_type": "code",
   "execution_count": 28,
   "id": "319e7edc",
   "metadata": {},
   "outputs": [
    {
     "data": {
      "text/plain": [
       "{'My', 'Name', 'Vivek,', 'cricket', 'hobby', 'is', 'play', 'to'}"
      ]
     },
     "execution_count": 28,
     "metadata": {},
     "output_type": "execute_result"
    }
   ],
   "source": [
    "hobby"
   ]
  },
  {
   "cell_type": "code",
   "execution_count": 29,
   "id": "423dcdd7",
   "metadata": {},
   "outputs": [],
   "source": [
    "hobby.clear()"
   ]
  },
  {
   "cell_type": "code",
   "execution_count": 30,
   "id": "66348714",
   "metadata": {},
   "outputs": [
    {
     "data": {
      "text/plain": [
       "set()"
      ]
     },
     "execution_count": 30,
     "metadata": {},
     "output_type": "execute_result"
    }
   ],
   "source": [
    "hobby"
   ]
  },
  {
   "cell_type": "code",
   "execution_count": 34,
   "id": "7e75108f",
   "metadata": {},
   "outputs": [
    {
     "data": {
      "text/plain": [
       "[]"
      ]
     },
     "execution_count": 34,
     "metadata": {},
     "output_type": "execute_result"
    }
   ],
   "source": [
    "h = list(b)\n",
    "h.clear()\n",
    "h"
   ]
  },
  {
   "cell_type": "code",
   "execution_count": 39,
   "id": "2a5e2fed",
   "metadata": {},
   "outputs": [
    {
     "ename": "AttributeError",
     "evalue": "'str' object has no attribute 'clear'",
     "output_type": "error",
     "traceback": [
      "\u001b[1;31m---------------------------------------------------------------------------\u001b[0m",
      "\u001b[1;31mAttributeError\u001b[0m                            Traceback (most recent call last)",
      "\u001b[1;32m~\\AppData\\Local\\Temp\\ipykernel_58708\\2113091780.py\u001b[0m in \u001b[0;36m<module>\u001b[1;34m\u001b[0m\n\u001b[0;32m      1\u001b[0m \u001b[0mhh\u001b[0m \u001b[1;33m=\u001b[0m \u001b[0mstr\u001b[0m\u001b[1;33m(\u001b[0m\u001b[0mb\u001b[0m\u001b[1;33m)\u001b[0m\u001b[1;33m\u001b[0m\u001b[1;33m\u001b[0m\u001b[0m\n\u001b[1;32m----> 2\u001b[1;33m \u001b[0mhh\u001b[0m\u001b[1;33m.\u001b[0m\u001b[0mclear\u001b[0m\u001b[1;33m(\u001b[0m\u001b[1;33m)\u001b[0m\u001b[1;33m\u001b[0m\u001b[1;33m\u001b[0m\u001b[0m\n\u001b[0m\u001b[0;32m      3\u001b[0m \u001b[0mhh\u001b[0m\u001b[1;33m\u001b[0m\u001b[1;33m\u001b[0m\u001b[0m\n",
      "\u001b[1;31mAttributeError\u001b[0m: 'str' object has no attribute 'clear'"
     ]
    }
   ],
   "source": [
    "hh = str(b)\n",
    "hh.clear()\n",
    "hh"
   ]
  },
  {
   "cell_type": "code",
   "execution_count": 36,
   "id": "8f1ac3c3",
   "metadata": {},
   "outputs": [
    {
     "ename": "AttributeError",
     "evalue": "'tuple' object has no attribute 'clear'",
     "output_type": "error",
     "traceback": [
      "\u001b[1;31m---------------------------------------------------------------------------\u001b[0m",
      "\u001b[1;31mAttributeError\u001b[0m                            Traceback (most recent call last)",
      "\u001b[1;32m~\\AppData\\Local\\Temp\\ipykernel_58708\\2891661808.py\u001b[0m in \u001b[0;36m<module>\u001b[1;34m\u001b[0m\n\u001b[0;32m      1\u001b[0m \u001b[0mhh\u001b[0m \u001b[1;33m=\u001b[0m \u001b[0mtuple\u001b[0m\u001b[1;33m(\u001b[0m\u001b[0mb\u001b[0m\u001b[1;33m)\u001b[0m\u001b[1;33m\u001b[0m\u001b[1;33m\u001b[0m\u001b[0m\n\u001b[1;32m----> 2\u001b[1;33m \u001b[0mhh\u001b[0m\u001b[1;33m.\u001b[0m\u001b[0mclear\u001b[0m\u001b[1;33m(\u001b[0m\u001b[1;33m)\u001b[0m\u001b[1;33m\u001b[0m\u001b[1;33m\u001b[0m\u001b[0m\n\u001b[0m\u001b[0;32m      3\u001b[0m \u001b[0mhh\u001b[0m\u001b[1;33m\u001b[0m\u001b[1;33m\u001b[0m\u001b[0m\n",
      "\u001b[1;31mAttributeError\u001b[0m: 'tuple' object has no attribute 'clear'"
     ]
    }
   ],
   "source": [
    "hh = tuple(b)\n",
    "hh.clear()\n",
    "hh"
   ]
  },
  {
   "cell_type": "code",
   "execution_count": 38,
   "id": "9ce26f92",
   "metadata": {},
   "outputs": [
    {
     "ename": "ValueError",
     "evalue": "dictionary update sequence element #1 has length 4; 2 is required",
     "output_type": "error",
     "traceback": [
      "\u001b[1;31m---------------------------------------------------------------------------\u001b[0m",
      "\u001b[1;31mValueError\u001b[0m                                Traceback (most recent call last)",
      "\u001b[1;32m~\\AppData\\Local\\Temp\\ipykernel_58708\\2751777426.py\u001b[0m in \u001b[0;36m<module>\u001b[1;34m\u001b[0m\n\u001b[1;32m----> 1\u001b[1;33m \u001b[0mhhh\u001b[0m \u001b[1;33m=\u001b[0m \u001b[0mdict\u001b[0m\u001b[1;33m(\u001b[0m\u001b[0mb\u001b[0m\u001b[1;33m)\u001b[0m\u001b[1;33m\u001b[0m\u001b[1;33m\u001b[0m\u001b[0m\n\u001b[0m\u001b[0;32m      2\u001b[0m \u001b[0mhhh\u001b[0m\u001b[1;33m.\u001b[0m\u001b[0mclear\u001b[0m\u001b[1;33m(\u001b[0m\u001b[1;33m)\u001b[0m\u001b[1;33m\u001b[0m\u001b[1;33m\u001b[0m\u001b[0m\n\u001b[0;32m      3\u001b[0m \u001b[0mhhh\u001b[0m\u001b[1;33m\u001b[0m\u001b[1;33m\u001b[0m\u001b[0m\n",
      "\u001b[1;31mValueError\u001b[0m: dictionary update sequence element #1 has length 4; 2 is required"
     ]
    }
   ],
   "source": [
    "hhh = dict(b)\n",
    "hhh.clear()\n",
    "hhh"
   ]
  },
  {
   "cell_type": "markdown",
   "id": "e3c90cdd",
   "metadata": {},
   "source": [
    "### Copy\n",
    "`It makes a copy of the set, dictionary and list.`"
   ]
  },
  {
   "cell_type": "code",
   "execution_count": 112,
   "id": "77f11985",
   "metadata": {},
   "outputs": [],
   "source": [
    "p = {'palak','vivek'}"
   ]
  },
  {
   "cell_type": "code",
   "execution_count": 113,
   "id": "d9a019fe",
   "metadata": {},
   "outputs": [],
   "source": [
    "f = p.copy()"
   ]
  },
  {
   "cell_type": "code",
   "execution_count": 114,
   "id": "e7eeaebc",
   "metadata": {},
   "outputs": [
    {
     "data": {
      "text/plain": [
       "{'palak', 'vivek'}"
      ]
     },
     "execution_count": 114,
     "metadata": {},
     "output_type": "execute_result"
    }
   ],
   "source": [
    "f"
   ]
  },
  {
   "cell_type": "code",
   "execution_count": 116,
   "id": "a73e96be",
   "metadata": {},
   "outputs": [],
   "source": [
    "gg = 'palak'"
   ]
  },
  {
   "cell_type": "code",
   "execution_count": 117,
   "id": "79a30c0f",
   "metadata": {},
   "outputs": [
    {
     "ename": "AttributeError",
     "evalue": "'str' object has no attribute 'copy'",
     "output_type": "error",
     "traceback": [
      "\u001b[1;31m---------------------------------------------------------------------------\u001b[0m",
      "\u001b[1;31mAttributeError\u001b[0m                            Traceback (most recent call last)",
      "\u001b[1;32m~\\AppData\\Local\\Temp\\ipykernel_119728\\488905642.py\u001b[0m in \u001b[0;36m<module>\u001b[1;34m\u001b[0m\n\u001b[1;32m----> 1\u001b[1;33m \u001b[0mg\u001b[0m \u001b[1;33m=\u001b[0m \u001b[0mgg\u001b[0m\u001b[1;33m.\u001b[0m\u001b[0mcopy\u001b[0m\u001b[1;33m(\u001b[0m\u001b[1;33m)\u001b[0m\u001b[1;33m\u001b[0m\u001b[1;33m\u001b[0m\u001b[0m\n\u001b[0m",
      "\u001b[1;31mAttributeError\u001b[0m: 'str' object has no attribute 'copy'"
     ]
    }
   ],
   "source": [
    "g = gg.copy()"
   ]
  },
  {
   "cell_type": "code",
   "execution_count": 119,
   "id": "f8245878",
   "metadata": {},
   "outputs": [],
   "source": [
    "g1 = ('palak','ppp')"
   ]
  },
  {
   "cell_type": "code",
   "execution_count": 120,
   "id": "0b93d2ee",
   "metadata": {},
   "outputs": [
    {
     "ename": "AttributeError",
     "evalue": "'tuple' object has no attribute 'copy'",
     "output_type": "error",
     "traceback": [
      "\u001b[1;31m---------------------------------------------------------------------------\u001b[0m",
      "\u001b[1;31mAttributeError\u001b[0m                            Traceback (most recent call last)",
      "\u001b[1;32m~\\AppData\\Local\\Temp\\ipykernel_119728\\3762312902.py\u001b[0m in \u001b[0;36m<module>\u001b[1;34m\u001b[0m\n\u001b[1;32m----> 1\u001b[1;33m \u001b[0mg2\u001b[0m \u001b[1;33m=\u001b[0m \u001b[0mg1\u001b[0m\u001b[1;33m.\u001b[0m\u001b[0mcopy\u001b[0m\u001b[1;33m(\u001b[0m\u001b[1;33m)\u001b[0m\u001b[1;33m\u001b[0m\u001b[1;33m\u001b[0m\u001b[0m\n\u001b[0m",
      "\u001b[1;31mAttributeError\u001b[0m: 'tuple' object has no attribute 'copy'"
     ]
    }
   ],
   "source": [
    "g2 = g1.copy()"
   ]
  },
  {
   "cell_type": "code",
   "execution_count": 115,
   "id": "7c54fc2b",
   "metadata": {},
   "outputs": [
    {
     "ename": "TypeError",
     "evalue": "'set' object is not subscriptable",
     "output_type": "error",
     "traceback": [
      "\u001b[1;31m---------------------------------------------------------------------------\u001b[0m",
      "\u001b[1;31mTypeError\u001b[0m                                 Traceback (most recent call last)",
      "\u001b[1;32m~\\AppData\\Local\\Temp\\ipykernel_119728\\2967957459.py\u001b[0m in \u001b[0;36m<module>\u001b[1;34m\u001b[0m\n\u001b[0;32m      1\u001b[0m \u001b[1;31m# Set are not sliced but can be done in list\u001b[0m\u001b[1;33m\u001b[0m\u001b[1;33m\u001b[0m\u001b[1;33m\u001b[0m\u001b[0m\n\u001b[0;32m      2\u001b[0m \u001b[1;33m\u001b[0m\u001b[0m\n\u001b[1;32m----> 3\u001b[1;33m \u001b[0mf\u001b[0m\u001b[1;33m[\u001b[0m\u001b[1;36m0\u001b[0m\u001b[1;33m]\u001b[0m\u001b[1;33m\u001b[0m\u001b[1;33m\u001b[0m\u001b[0m\n\u001b[0m",
      "\u001b[1;31mTypeError\u001b[0m: 'set' object is not subscriptable"
     ]
    }
   ],
   "source": [
    "# Set are not sliced but can be done in list\n",
    "\n",
    "f[0]"
   ]
  },
  {
   "cell_type": "code",
   "execution_count": 121,
   "id": "5ee49778",
   "metadata": {},
   "outputs": [],
   "source": [
    "s = list(f)"
   ]
  },
  {
   "cell_type": "code",
   "execution_count": 122,
   "id": "aaab1b2e",
   "metadata": {},
   "outputs": [
    {
     "data": {
      "text/plain": [
       "['palak', 'vivek']"
      ]
     },
     "execution_count": 122,
     "metadata": {},
     "output_type": "execute_result"
    }
   ],
   "source": [
    "s.copy()\n",
    "s"
   ]
  },
  {
   "cell_type": "code",
   "execution_count": 123,
   "id": "b4895c42",
   "metadata": {},
   "outputs": [
    {
     "data": {
      "text/plain": [
       "'vivek'"
      ]
     },
     "execution_count": 123,
     "metadata": {},
     "output_type": "execute_result"
    }
   ],
   "source": [
    "# Set slicing can be done by converting it into list\n",
    "\n",
    "list(f)[1]"
   ]
  },
  {
   "cell_type": "code",
   "execution_count": 124,
   "id": "39124082",
   "metadata": {},
   "outputs": [],
   "source": [
    "f.add('soni')"
   ]
  },
  {
   "cell_type": "code",
   "execution_count": 125,
   "id": "bb3b28df",
   "metadata": {},
   "outputs": [
    {
     "data": {
      "text/plain": [
       "{'palak', 'soni', 'vivek'}"
      ]
     },
     "execution_count": 125,
     "metadata": {},
     "output_type": "execute_result"
    }
   ],
   "source": [
    "f"
   ]
  },
  {
   "cell_type": "code",
   "execution_count": 126,
   "id": "28271280",
   "metadata": {},
   "outputs": [
    {
     "data": {
      "text/plain": [
       "{'palak', 'vivek'}"
      ]
     },
     "execution_count": 126,
     "metadata": {},
     "output_type": "execute_result"
    }
   ],
   "source": [
    "p"
   ]
  },
  {
   "cell_type": "code",
   "execution_count": 127,
   "id": "7c8ad469",
   "metadata": {},
   "outputs": [],
   "source": [
    "e = p"
   ]
  },
  {
   "cell_type": "code",
   "execution_count": 128,
   "id": "ef9f4531",
   "metadata": {},
   "outputs": [],
   "source": [
    "e.add('maheshwari')"
   ]
  },
  {
   "cell_type": "code",
   "execution_count": 129,
   "id": "d3a10f08",
   "metadata": {},
   "outputs": [
    {
     "data": {
      "text/plain": [
       "{'maheshwari', 'palak', 'vivek'}"
      ]
     },
     "execution_count": 129,
     "metadata": {},
     "output_type": "execute_result"
    }
   ],
   "source": [
    "e"
   ]
  },
  {
   "cell_type": "code",
   "execution_count": 130,
   "id": "fac914f8",
   "metadata": {},
   "outputs": [
    {
     "data": {
      "text/plain": [
       "{'maheshwari', 'palak', 'vivek'}"
      ]
     },
     "execution_count": 130,
     "metadata": {},
     "output_type": "execute_result"
    }
   ],
   "source": [
    "p"
   ]
  },
  {
   "cell_type": "code",
   "execution_count": 131,
   "id": "053483c2",
   "metadata": {},
   "outputs": [],
   "source": [
    "e.add('atharv')"
   ]
  },
  {
   "cell_type": "code",
   "execution_count": 132,
   "id": "ec421c0b",
   "metadata": {},
   "outputs": [
    {
     "data": {
      "text/plain": [
       "{'atharv', 'maheshwari', 'palak', 'vivek'}"
      ]
     },
     "execution_count": 132,
     "metadata": {},
     "output_type": "execute_result"
    }
   ],
   "source": [
    "e"
   ]
  },
  {
   "cell_type": "code",
   "execution_count": 133,
   "id": "03dea045",
   "metadata": {},
   "outputs": [],
   "source": [
    "e.add('zee')"
   ]
  },
  {
   "cell_type": "code",
   "execution_count": 134,
   "id": "f68ef20e",
   "metadata": {},
   "outputs": [
    {
     "data": {
      "text/plain": [
       "{'atharv', 'maheshwari', 'palak', 'vivek', 'zee'}"
      ]
     },
     "execution_count": 134,
     "metadata": {},
     "output_type": "execute_result"
    }
   ],
   "source": [
    "e"
   ]
  },
  {
   "cell_type": "code",
   "execution_count": 135,
   "id": "3d9d36c2",
   "metadata": {},
   "outputs": [],
   "source": [
    "e.add(9)"
   ]
  },
  {
   "cell_type": "code",
   "execution_count": 207,
   "id": "10d4770b",
   "metadata": {},
   "outputs": [
    {
     "data": {
      "text/plain": [
       "{9, 'atharv', 'maheshwari', 'palak', 'vivek'}"
      ]
     },
     "execution_count": 207,
     "metadata": {},
     "output_type": "execute_result"
    }
   ],
   "source": [
    "e"
   ]
  },
  {
   "cell_type": "markdown",
   "id": "5de18db7",
   "metadata": {},
   "source": [
    "### discard\n",
    "`It removes the defined value` <br>\n",
    "`If the value not present it does not throw the error`"
   ]
  },
  {
   "cell_type": "code",
   "execution_count": 95,
   "id": "200af26a",
   "metadata": {},
   "outputs": [
    {
     "data": {
      "text/plain": [
       "{5, 6, '9', 'palak', 'vivek'}"
      ]
     },
     "execution_count": 95,
     "metadata": {},
     "output_type": "execute_result"
    }
   ],
   "source": [
    "r = {'palak',5,6,'9','vivek'}\n",
    "r"
   ]
  },
  {
   "cell_type": "code",
   "execution_count": 96,
   "id": "64b110e2",
   "metadata": {},
   "outputs": [],
   "source": [
    "r.discard('vivek')"
   ]
  },
  {
   "cell_type": "code",
   "execution_count": 97,
   "id": "f2de8328",
   "metadata": {},
   "outputs": [
    {
     "data": {
      "text/plain": [
       "{5, 6, '9', 'palak'}"
      ]
     },
     "execution_count": 97,
     "metadata": {},
     "output_type": "execute_result"
    }
   ],
   "source": [
    "r"
   ]
  },
  {
   "cell_type": "code",
   "execution_count": 98,
   "id": "cf89b1d5",
   "metadata": {},
   "outputs": [],
   "source": [
    "r.discard(5)"
   ]
  },
  {
   "cell_type": "code",
   "execution_count": 99,
   "id": "233c21a5",
   "metadata": {},
   "outputs": [
    {
     "data": {
      "text/plain": [
       "{6, '9', 'palak'}"
      ]
     },
     "execution_count": 99,
     "metadata": {},
     "output_type": "execute_result"
    }
   ],
   "source": [
    "r"
   ]
  },
  {
   "cell_type": "code",
   "execution_count": 100,
   "id": "fe38e0f1",
   "metadata": {},
   "outputs": [],
   "source": [
    "# If discard value not in the variable it do not throw the error neither change the variable, output remains the same.\n",
    "\n",
    "r.discard('z')"
   ]
  },
  {
   "cell_type": "code",
   "execution_count": 101,
   "id": "0d485e50",
   "metadata": {},
   "outputs": [
    {
     "ename": "TypeError",
     "evalue": "set.discard() takes exactly one argument (0 given)",
     "output_type": "error",
     "traceback": [
      "\u001b[1;31m---------------------------------------------------------------------------\u001b[0m",
      "\u001b[1;31mTypeError\u001b[0m                                 Traceback (most recent call last)",
      "Cell \u001b[1;32mIn[101], line 1\u001b[0m\n\u001b[1;32m----> 1\u001b[0m \u001b[43mr\u001b[49m\u001b[38;5;241;43m.\u001b[39;49m\u001b[43mdiscard\u001b[49m\u001b[43m(\u001b[49m\u001b[43m)\u001b[49m\n",
      "\u001b[1;31mTypeError\u001b[0m: set.discard() takes exactly one argument (0 given)"
     ]
    }
   ],
   "source": [
    "r.discard()"
   ]
  },
  {
   "cell_type": "code",
   "execution_count": 110,
   "id": "39f8a035",
   "metadata": {},
   "outputs": [
    {
     "data": {
      "text/plain": [
       "{6, '9', 'palak'}"
      ]
     },
     "execution_count": 110,
     "metadata": {},
     "output_type": "execute_result"
    }
   ],
   "source": [
    "r"
   ]
  },
  {
   "cell_type": "code",
   "execution_count": 111,
   "id": "7e9d5d4f",
   "metadata": {},
   "outputs": [
    {
     "ename": "TypeError",
     "evalue": "unhashable type: 'list'",
     "output_type": "error",
     "traceback": [
      "\u001b[1;31m---------------------------------------------------------------------------\u001b[0m",
      "\u001b[1;31mTypeError\u001b[0m                                 Traceback (most recent call last)",
      "Cell \u001b[1;32mIn[111], line 1\u001b[0m\n\u001b[1;32m----> 1\u001b[0m \u001b[43mr\u001b[49m\u001b[38;5;241;43m.\u001b[39;49m\u001b[43mdiscard\u001b[49m\u001b[43m(\u001b[49m\u001b[43m[\u001b[49m\u001b[38;5;241;43m6\u001b[39;49m\u001b[43m,\u001b[49m\u001b[38;5;124;43m'\u001b[39;49m\u001b[38;5;124;43m9\u001b[39;49m\u001b[38;5;124;43m'\u001b[39;49m\u001b[43m]\u001b[49m\u001b[43m)\u001b[49m\n",
      "\u001b[1;31mTypeError\u001b[0m: unhashable type: 'list'"
     ]
    }
   ],
   "source": [
    "r.discard([6,'9'])"
   ]
  },
  {
   "cell_type": "markdown",
   "id": "ecb63172",
   "metadata": {},
   "source": [
    "### difference\n",
    "`It returns the difference value of the set and it does not save the output, keeps the original characters.`"
   ]
  },
  {
   "cell_type": "code",
   "execution_count": 217,
   "id": "f8c1d999",
   "metadata": {},
   "outputs": [],
   "source": [
    "a = {1,2,3,4,5,6}\n",
    "b = set(range(11))"
   ]
  },
  {
   "cell_type": "code",
   "execution_count": 218,
   "id": "c0c43e29",
   "metadata": {},
   "outputs": [
    {
     "data": {
      "text/plain": [
       "{0, 1, 2, 3, 4, 5, 6, 7, 8, 9, 10}"
      ]
     },
     "execution_count": 218,
     "metadata": {},
     "output_type": "execute_result"
    }
   ],
   "source": [
    "b"
   ]
  },
  {
   "cell_type": "code",
   "execution_count": 219,
   "id": "2d53d29a",
   "metadata": {},
   "outputs": [
    {
     "data": {
      "text/plain": [
       "set()"
      ]
     },
     "execution_count": 219,
     "metadata": {},
     "output_type": "execute_result"
    }
   ],
   "source": [
    "a.difference(b)"
   ]
  },
  {
   "cell_type": "code",
   "execution_count": 33,
   "id": "8ffaf824",
   "metadata": {},
   "outputs": [
    {
     "data": {
      "text/plain": [
       "{0, 7, 8, 9, 10}"
      ]
     },
     "execution_count": 33,
     "metadata": {},
     "output_type": "execute_result"
    }
   ],
   "source": [
    "b.difference(a)"
   ]
  },
  {
   "cell_type": "code",
   "execution_count": 45,
   "id": "be9ca39c",
   "metadata": {},
   "outputs": [
    {
     "data": {
      "text/plain": [
       "{0, 1, 2, 3, 4, 5, 6, 7, 8, 9, 10}"
      ]
     },
     "execution_count": 45,
     "metadata": {},
     "output_type": "execute_result"
    }
   ],
   "source": [
    "b"
   ]
  },
  {
   "cell_type": "markdown",
   "id": "24de4301",
   "metadata": {},
   "source": [
    "### difference_update\n",
    "`It updates the value and return the difference value.`"
   ]
  },
  {
   "cell_type": "code",
   "execution_count": 8,
   "id": "27ab984d",
   "metadata": {},
   "outputs": [],
   "source": [
    "aa = {1,2,3,4,5,6}\n",
    "bb = set(range(11))"
   ]
  },
  {
   "cell_type": "code",
   "execution_count": 2,
   "id": "f108edb0",
   "metadata": {},
   "outputs": [
    {
     "data": {
      "text/plain": [
       "{1, 2, 3, 4, 5, 6}"
      ]
     },
     "execution_count": 2,
     "metadata": {},
     "output_type": "execute_result"
    }
   ],
   "source": [
    "aa"
   ]
  },
  {
   "cell_type": "code",
   "execution_count": 3,
   "id": "61c13011",
   "metadata": {},
   "outputs": [
    {
     "data": {
      "text/plain": [
       "{0, 1, 2, 3, 4, 5, 6, 7, 8, 9, 10}"
      ]
     },
     "execution_count": 3,
     "metadata": {},
     "output_type": "execute_result"
    }
   ],
   "source": [
    "bb"
   ]
  },
  {
   "cell_type": "code",
   "execution_count": 4,
   "id": "083d84f5",
   "metadata": {},
   "outputs": [],
   "source": [
    "aa.difference_update(bb)"
   ]
  },
  {
   "cell_type": "code",
   "execution_count": 5,
   "id": "1bff16e0",
   "metadata": {},
   "outputs": [
    {
     "data": {
      "text/plain": [
       "set()"
      ]
     },
     "execution_count": 5,
     "metadata": {},
     "output_type": "execute_result"
    }
   ],
   "source": [
    "# difference_update empty the set when there is no difference\n",
    "# only keep the different characters and removes the same characters.\n",
    "\n",
    "aa"
   ]
  },
  {
   "cell_type": "code",
   "execution_count": 9,
   "id": "6a3074e0",
   "metadata": {},
   "outputs": [],
   "source": [
    "bb.difference_update(aa)"
   ]
  },
  {
   "cell_type": "code",
   "execution_count": 10,
   "id": "0d917fb0",
   "metadata": {},
   "outputs": [
    {
     "data": {
      "text/plain": [
       "{0, 7, 8, 9, 10}"
      ]
     },
     "execution_count": 10,
     "metadata": {},
     "output_type": "execute_result"
    }
   ],
   "source": [
    "bb"
   ]
  },
  {
   "cell_type": "markdown",
   "id": "1e2a3f5a",
   "metadata": {},
   "source": [
    "### intersection\n",
    "`It returns the same values and does not save the output.`"
   ]
  },
  {
   "cell_type": "code",
   "execution_count": 58,
   "id": "b36193fd",
   "metadata": {},
   "outputs": [],
   "source": [
    "aaa = {1,2,3,4,5,6}\n",
    "bbb = set(range(11))"
   ]
  },
  {
   "cell_type": "code",
   "execution_count": 60,
   "id": "d20c3243",
   "metadata": {},
   "outputs": [
    {
     "data": {
      "text/plain": [
       "{1, 2, 3, 4, 5, 6}"
      ]
     },
     "execution_count": 60,
     "metadata": {},
     "output_type": "execute_result"
    }
   ],
   "source": [
    "aaa"
   ]
  },
  {
   "cell_type": "code",
   "execution_count": 61,
   "id": "8dc8e59e",
   "metadata": {},
   "outputs": [
    {
     "data": {
      "text/plain": [
       "{0, 1, 2, 3, 4, 5, 6, 7, 8, 9, 10}"
      ]
     },
     "execution_count": 61,
     "metadata": {},
     "output_type": "execute_result"
    }
   ],
   "source": [
    "bbb"
   ]
  },
  {
   "cell_type": "code",
   "execution_count": 59,
   "id": "9b717031",
   "metadata": {},
   "outputs": [
    {
     "data": {
      "text/plain": [
       "{1, 2, 3, 4, 5, 6}"
      ]
     },
     "execution_count": 59,
     "metadata": {},
     "output_type": "execute_result"
    }
   ],
   "source": [
    "aaa.intersection(bbb)"
   ]
  },
  {
   "cell_type": "code",
   "execution_count": 62,
   "id": "65190549",
   "metadata": {},
   "outputs": [
    {
     "data": {
      "text/plain": [
       "{1, 2, 3, 4, 5, 6}"
      ]
     },
     "execution_count": 62,
     "metadata": {},
     "output_type": "execute_result"
    }
   ],
   "source": [
    "bbb.intersection(aaa)"
   ]
  },
  {
   "cell_type": "markdown",
   "id": "08505956",
   "metadata": {},
   "source": [
    "### intersection_update\n",
    "`It returns the same values and saves the output.`"
   ]
  },
  {
   "cell_type": "code",
   "execution_count": 1,
   "id": "df1dfde0",
   "metadata": {},
   "outputs": [],
   "source": [
    "aaa1 = {1,2,3,4,5,6}\n",
    "bbb1 = set(range(11))"
   ]
  },
  {
   "cell_type": "code",
   "execution_count": 2,
   "id": "70c49438",
   "metadata": {},
   "outputs": [
    {
     "data": {
      "text/plain": [
       "{1, 2, 3, 4, 5, 6}"
      ]
     },
     "execution_count": 2,
     "metadata": {},
     "output_type": "execute_result"
    }
   ],
   "source": [
    "aaa1"
   ]
  },
  {
   "cell_type": "code",
   "execution_count": 3,
   "id": "b700f77c",
   "metadata": {},
   "outputs": [
    {
     "data": {
      "text/plain": [
       "{0, 1, 2, 3, 4, 5, 6, 7, 8, 9, 10}"
      ]
     },
     "execution_count": 3,
     "metadata": {},
     "output_type": "execute_result"
    }
   ],
   "source": [
    "bbb1"
   ]
  },
  {
   "cell_type": "code",
   "execution_count": 4,
   "id": "7db0493c",
   "metadata": {},
   "outputs": [],
   "source": [
    "aaa1.intersection_update(bbb1)"
   ]
  },
  {
   "cell_type": "code",
   "execution_count": 5,
   "id": "a63c9695",
   "metadata": {},
   "outputs": [
    {
     "data": {
      "text/plain": [
       "{1, 2, 3, 4, 5, 6}"
      ]
     },
     "execution_count": 5,
     "metadata": {},
     "output_type": "execute_result"
    }
   ],
   "source": [
    "aaa1"
   ]
  },
  {
   "cell_type": "code",
   "execution_count": 6,
   "id": "123e149a",
   "metadata": {},
   "outputs": [
    {
     "data": {
      "text/plain": [
       "{0, 1, 2, 3, 4, 5, 6, 7, 8, 9, 10}"
      ]
     },
     "execution_count": 6,
     "metadata": {},
     "output_type": "execute_result"
    }
   ],
   "source": [
    "bbb1"
   ]
  },
  {
   "cell_type": "code",
   "execution_count": 7,
   "id": "2ef3c98e",
   "metadata": {},
   "outputs": [],
   "source": [
    "bbb1.intersection_update(aaa1)"
   ]
  },
  {
   "cell_type": "code",
   "execution_count": 8,
   "id": "8e80705e",
   "metadata": {},
   "outputs": [
    {
     "data": {
      "text/plain": [
       "{1, 2, 3, 4, 5, 6}"
      ]
     },
     "execution_count": 8,
     "metadata": {},
     "output_type": "execute_result"
    }
   ],
   "source": [
    "bbb1"
   ]
  },
  {
   "cell_type": "markdown",
   "id": "98c11188",
   "metadata": {},
   "source": [
    "### isdisjoint\n",
    "`It returns the boolean value and tell that variable is joint to the other or not.`"
   ]
  },
  {
   "cell_type": "code",
   "execution_count": 2,
   "id": "d1f3e3ab",
   "metadata": {},
   "outputs": [],
   "source": [
    "s1 = {1,2}\n",
    "s2 = {1,2,4}\n",
    "s3 = {5}\n",
    "s4 = {4,5}\n",
    "s5 = {1,5}"
   ]
  },
  {
   "cell_type": "code",
   "execution_count": 10,
   "id": "656bcaa1",
   "metadata": {},
   "outputs": [
    {
     "data": {
      "text/plain": [
       "False"
      ]
     },
     "execution_count": 10,
     "metadata": {},
     "output_type": "execute_result"
    }
   ],
   "source": [
    "s1.isdisjoint(s2)"
   ]
  },
  {
   "cell_type": "code",
   "execution_count": 3,
   "id": "a9f9f1a6",
   "metadata": {},
   "outputs": [
    {
     "data": {
      "text/plain": [
       "False"
      ]
     },
     "execution_count": 3,
     "metadata": {},
     "output_type": "execute_result"
    }
   ],
   "source": [
    "s1.isdisjoint(s5)"
   ]
  },
  {
   "cell_type": "code",
   "execution_count": 11,
   "id": "6d724e0b",
   "metadata": {},
   "outputs": [
    {
     "data": {
      "text/plain": [
       "False"
      ]
     },
     "execution_count": 11,
     "metadata": {},
     "output_type": "execute_result"
    }
   ],
   "source": [
    "s2.isdisjoint(s1)"
   ]
  },
  {
   "cell_type": "code",
   "execution_count": 12,
   "id": "57bd38cd",
   "metadata": {},
   "outputs": [
    {
     "data": {
      "text/plain": [
       "True"
      ]
     },
     "execution_count": 12,
     "metadata": {},
     "output_type": "execute_result"
    }
   ],
   "source": [
    "s1.isdisjoint(s3) "
   ]
  },
  {
   "cell_type": "code",
   "execution_count": 42,
   "id": "63560d31",
   "metadata": {},
   "outputs": [
    {
     "data": {
      "text/plain": [
       "True"
      ]
     },
     "execution_count": 42,
     "metadata": {},
     "output_type": "execute_result"
    }
   ],
   "source": [
    "s1.isdisjoint(s4) "
   ]
  },
  {
   "cell_type": "code",
   "execution_count": 14,
   "id": "eb25ae15",
   "metadata": {},
   "outputs": [
    {
     "data": {
      "text/plain": [
       "False"
      ]
     },
     "execution_count": 14,
     "metadata": {},
     "output_type": "execute_result"
    }
   ],
   "source": [
    "s5.isdisjoint(s2)"
   ]
  },
  {
   "cell_type": "code",
   "execution_count": 16,
   "id": "911e6a48",
   "metadata": {},
   "outputs": [
    {
     "data": {
      "text/plain": [
       "False"
      ]
     },
     "execution_count": 16,
     "metadata": {},
     "output_type": "execute_result"
    }
   ],
   "source": [
    "s2.isdisjoint(s5)"
   ]
  },
  {
   "cell_type": "code",
   "execution_count": 15,
   "id": "6e469702",
   "metadata": {},
   "outputs": [
    {
     "data": {
      "text/plain": [
       "False"
      ]
     },
     "execution_count": 15,
     "metadata": {},
     "output_type": "execute_result"
    }
   ],
   "source": [
    "s4.isdisjoint(s5)"
   ]
  },
  {
   "cell_type": "code",
   "execution_count": 257,
   "id": "53aeafb8",
   "metadata": {},
   "outputs": [
    {
     "data": {
      "text/plain": [
       "True"
      ]
     },
     "execution_count": 257,
     "metadata": {},
     "output_type": "execute_result"
    }
   ],
   "source": [
    "s3.isdisjoint(s1)"
   ]
  },
  {
   "cell_type": "code",
   "execution_count": 258,
   "id": "157e39ec",
   "metadata": {},
   "outputs": [
    {
     "data": {
      "text/plain": [
       "True"
      ]
     },
     "execution_count": 258,
     "metadata": {},
     "output_type": "execute_result"
    }
   ],
   "source": [
    "s2.isdisjoint(s3)"
   ]
  },
  {
   "cell_type": "code",
   "execution_count": 268,
   "id": "10be6fdf",
   "metadata": {},
   "outputs": [
    {
     "data": {
      "text/plain": [
       "False"
      ]
     },
     "execution_count": 268,
     "metadata": {},
     "output_type": "execute_result"
    }
   ],
   "source": [
    "s3.isdisjoint(s4)"
   ]
  },
  {
   "cell_type": "markdown",
   "id": "b4aeac09",
   "metadata": {},
   "source": [
    "### issubset\n",
    "`If all the elements of set A are present in set B it is a sub set.`"
   ]
  },
  {
   "cell_type": "code",
   "execution_count": 138,
   "id": "d21684c1",
   "metadata": {},
   "outputs": [
    {
     "data": {
      "text/plain": [
       "{1, 2}"
      ]
     },
     "execution_count": 138,
     "metadata": {},
     "output_type": "execute_result"
    }
   ],
   "source": [
    "s1"
   ]
  },
  {
   "cell_type": "code",
   "execution_count": 145,
   "id": "de65b6bd",
   "metadata": {},
   "outputs": [],
   "source": [
    "a1 = {1,2,3}\n",
    "b1 = {1,2,3}"
   ]
  },
  {
   "cell_type": "code",
   "execution_count": 146,
   "id": "d3cc5c9e",
   "metadata": {
    "scrolled": true
   },
   "outputs": [
    {
     "data": {
      "text/plain": [
       "True"
      ]
     },
     "execution_count": 146,
     "metadata": {},
     "output_type": "execute_result"
    }
   ],
   "source": [
    "a1.issubset(b1)"
   ]
  },
  {
   "cell_type": "code",
   "execution_count": 147,
   "id": "7151f42d",
   "metadata": {
    "scrolled": true
   },
   "outputs": [
    {
     "data": {
      "text/plain": [
       "True"
      ]
     },
     "execution_count": 147,
     "metadata": {},
     "output_type": "execute_result"
    }
   ],
   "source": [
    "b1.issubset(a1)"
   ]
  },
  {
   "cell_type": "code",
   "execution_count": 142,
   "id": "a3ae7fcc",
   "metadata": {},
   "outputs": [
    {
     "data": {
      "text/plain": [
       "{1, 2, 4}"
      ]
     },
     "execution_count": 142,
     "metadata": {},
     "output_type": "execute_result"
    }
   ],
   "source": [
    "s2"
   ]
  },
  {
   "cell_type": "code",
   "execution_count": 143,
   "id": "3dad370a",
   "metadata": {},
   "outputs": [
    {
     "data": {
      "text/plain": [
       "True"
      ]
     },
     "execution_count": 143,
     "metadata": {},
     "output_type": "execute_result"
    }
   ],
   "source": [
    "s1.issubset(s2)"
   ]
  },
  {
   "cell_type": "code",
   "execution_count": 144,
   "id": "8d06a7d3",
   "metadata": {},
   "outputs": [
    {
     "data": {
      "text/plain": [
       "False"
      ]
     },
     "execution_count": 144,
     "metadata": {},
     "output_type": "execute_result"
    }
   ],
   "source": [
    "s2.issubset(s1)"
   ]
  },
  {
   "cell_type": "code",
   "execution_count": 91,
   "id": "01a4c31f",
   "metadata": {},
   "outputs": [
    {
     "data": {
      "text/plain": [
       "{4, 5}"
      ]
     },
     "execution_count": 91,
     "metadata": {},
     "output_type": "execute_result"
    }
   ],
   "source": [
    "s4"
   ]
  },
  {
   "cell_type": "code",
   "execution_count": 92,
   "id": "d996ebde",
   "metadata": {},
   "outputs": [
    {
     "data": {
      "text/plain": [
       "False"
      ]
     },
     "execution_count": 92,
     "metadata": {},
     "output_type": "execute_result"
    }
   ],
   "source": [
    "s2.issubset(s4)"
   ]
  },
  {
   "cell_type": "code",
   "execution_count": 269,
   "id": "3445c749",
   "metadata": {},
   "outputs": [
    {
     "data": {
      "text/plain": [
       "False"
      ]
     },
     "execution_count": 269,
     "metadata": {},
     "output_type": "execute_result"
    }
   ],
   "source": [
    "s4.issubset(s2)"
   ]
  },
  {
   "cell_type": "markdown",
   "id": "f9fe355c",
   "metadata": {},
   "source": [
    "### issuperset\n",
    "`Set X is said to be the superset of set Y if all elements of Y are in X `"
   ]
  },
  {
   "cell_type": "code",
   "execution_count": 148,
   "id": "35e8b88d",
   "metadata": {},
   "outputs": [],
   "source": [
    "a1 = {1,2,3}\n",
    "b1 = {1,2,3}"
   ]
  },
  {
   "cell_type": "code",
   "execution_count": 149,
   "id": "48c27a4c",
   "metadata": {
    "scrolled": true
   },
   "outputs": [
    {
     "data": {
      "text/plain": [
       "True"
      ]
     },
     "execution_count": 149,
     "metadata": {},
     "output_type": "execute_result"
    }
   ],
   "source": [
    "a1.issuperset(b1)"
   ]
  },
  {
   "cell_type": "code",
   "execution_count": 150,
   "id": "56a78fba",
   "metadata": {
    "scrolled": true
   },
   "outputs": [
    {
     "data": {
      "text/plain": [
       "True"
      ]
     },
     "execution_count": 150,
     "metadata": {},
     "output_type": "execute_result"
    }
   ],
   "source": [
    "b1.issuperset(a1)"
   ]
  },
  {
   "cell_type": "code",
   "execution_count": 151,
   "id": "4ad2a823",
   "metadata": {},
   "outputs": [
    {
     "data": {
      "text/plain": [
       "{1, 2}"
      ]
     },
     "execution_count": 151,
     "metadata": {},
     "output_type": "execute_result"
    }
   ],
   "source": [
    "s1"
   ]
  },
  {
   "cell_type": "code",
   "execution_count": 152,
   "id": "448ae63b",
   "metadata": {},
   "outputs": [
    {
     "data": {
      "text/plain": [
       "{1, 2, 4}"
      ]
     },
     "execution_count": 152,
     "metadata": {},
     "output_type": "execute_result"
    }
   ],
   "source": [
    "s2"
   ]
  },
  {
   "cell_type": "code",
   "execution_count": 153,
   "id": "032329a2",
   "metadata": {},
   "outputs": [
    {
     "data": {
      "text/plain": [
       "True"
      ]
     },
     "execution_count": 153,
     "metadata": {},
     "output_type": "execute_result"
    }
   ],
   "source": [
    "s2.issuperset(s1)"
   ]
  },
  {
   "cell_type": "code",
   "execution_count": 154,
   "id": "4c7237b3",
   "metadata": {},
   "outputs": [
    {
     "data": {
      "text/plain": [
       "False"
      ]
     },
     "execution_count": 154,
     "metadata": {},
     "output_type": "execute_result"
    }
   ],
   "source": [
    "s1.issuperset(s2)"
   ]
  },
  {
   "cell_type": "code",
   "execution_count": 155,
   "id": "fe983f8e",
   "metadata": {},
   "outputs": [
    {
     "data": {
      "text/plain": [
       "{4, 5}"
      ]
     },
     "execution_count": 155,
     "metadata": {},
     "output_type": "execute_result"
    }
   ],
   "source": [
    "s4"
   ]
  },
  {
   "cell_type": "code",
   "execution_count": 156,
   "id": "8654883d",
   "metadata": {},
   "outputs": [
    {
     "data": {
      "text/plain": [
       "False"
      ]
     },
     "execution_count": 156,
     "metadata": {},
     "output_type": "execute_result"
    }
   ],
   "source": [
    "s4.issuperset(s2)"
   ]
  },
  {
   "cell_type": "code",
   "execution_count": 157,
   "id": "e59ca7b5",
   "metadata": {},
   "outputs": [
    {
     "data": {
      "text/plain": [
       "False"
      ]
     },
     "execution_count": 157,
     "metadata": {},
     "output_type": "execute_result"
    }
   ],
   "source": [
    "s2.issuperset(s4)"
   ]
  },
  {
   "cell_type": "markdown",
   "id": "9b779cb6",
   "metadata": {},
   "source": [
    "### symetric_difference\n",
    "`It return set that contains a mix of items that are not present in both sets and it does not save the output.`"
   ]
  },
  {
   "cell_type": "code",
   "execution_count": 302,
   "id": "c985a394",
   "metadata": {},
   "outputs": [
    {
     "data": {
      "text/plain": [
       "{1, 2}"
      ]
     },
     "execution_count": 302,
     "metadata": {},
     "output_type": "execute_result"
    }
   ],
   "source": [
    "s1"
   ]
  },
  {
   "cell_type": "code",
   "execution_count": 303,
   "id": "9b44ef03",
   "metadata": {},
   "outputs": [
    {
     "data": {
      "text/plain": [
       "{1, 2, 4}"
      ]
     },
     "execution_count": 303,
     "metadata": {},
     "output_type": "execute_result"
    }
   ],
   "source": [
    "s2"
   ]
  },
  {
   "cell_type": "code",
   "execution_count": 304,
   "id": "98419df2",
   "metadata": {},
   "outputs": [
    {
     "data": {
      "text/plain": [
       "{4}"
      ]
     },
     "execution_count": 304,
     "metadata": {},
     "output_type": "execute_result"
    }
   ],
   "source": [
    "s1.symmetric_difference(s2)"
   ]
  },
  {
   "cell_type": "code",
   "execution_count": 43,
   "id": "3705922a",
   "metadata": {},
   "outputs": [
    {
     "data": {
      "text/plain": [
       "{4, 6, 8, 9}"
      ]
     },
     "execution_count": 43,
     "metadata": {},
     "output_type": "execute_result"
    }
   ],
   "source": [
    "{1,2,4,6}.symmetric_difference({1,2,8,9})"
   ]
  },
  {
   "cell_type": "code",
   "execution_count": 295,
   "id": "209e9af5",
   "metadata": {},
   "outputs": [
    {
     "data": {
      "text/plain": [
       "{4}"
      ]
     },
     "execution_count": 295,
     "metadata": {},
     "output_type": "execute_result"
    }
   ],
   "source": [
    "s2.symmetric_difference(s1)"
   ]
  },
  {
   "cell_type": "code",
   "execution_count": 296,
   "id": "13ac6e3e",
   "metadata": {},
   "outputs": [
    {
     "data": {
      "text/plain": [
       "set()"
      ]
     },
     "execution_count": 296,
     "metadata": {},
     "output_type": "execute_result"
    }
   ],
   "source": [
    "s1.difference(s2) "
   ]
  },
  {
   "cell_type": "code",
   "execution_count": 297,
   "id": "f0c80186",
   "metadata": {},
   "outputs": [
    {
     "data": {
      "text/plain": [
       "{4}"
      ]
     },
     "execution_count": 297,
     "metadata": {},
     "output_type": "execute_result"
    }
   ],
   "source": [
    "s2.difference(s1)"
   ]
  },
  {
   "cell_type": "code",
   "execution_count": 300,
   "id": "ce95a769",
   "metadata": {},
   "outputs": [
    {
     "data": {
      "text/plain": [
       "{4, 5}"
      ]
     },
     "execution_count": 300,
     "metadata": {},
     "output_type": "execute_result"
    }
   ],
   "source": [
    "s4"
   ]
  },
  {
   "cell_type": "code",
   "execution_count": 307,
   "id": "49999211",
   "metadata": {},
   "outputs": [
    {
     "data": {
      "text/plain": [
       "{1, 2, 4, 5}"
      ]
     },
     "execution_count": 307,
     "metadata": {},
     "output_type": "execute_result"
    }
   ],
   "source": [
    "s4.symmetric_difference(s1)"
   ]
  },
  {
   "cell_type": "code",
   "execution_count": 276,
   "id": "c87ce0e2",
   "metadata": {},
   "outputs": [
    {
     "data": {
      "text/plain": [
       "{5}"
      ]
     },
     "execution_count": 276,
     "metadata": {},
     "output_type": "execute_result"
    }
   ],
   "source": [
    "s3"
   ]
  },
  {
   "cell_type": "code",
   "execution_count": 277,
   "id": "f63ddb20",
   "metadata": {},
   "outputs": [
    {
     "data": {
      "text/plain": [
       "{4}"
      ]
     },
     "execution_count": 277,
     "metadata": {},
     "output_type": "execute_result"
    }
   ],
   "source": [
    "s3.symmetric_difference(s4)"
   ]
  },
  {
   "cell_type": "code",
   "execution_count": 279,
   "id": "33bcc246",
   "metadata": {},
   "outputs": [
    {
     "data": {
      "text/plain": [
       "{5}"
      ]
     },
     "execution_count": 279,
     "metadata": {},
     "output_type": "execute_result"
    }
   ],
   "source": [
    "# Do not change the set.\n",
    "s3 "
   ]
  },
  {
   "cell_type": "code",
   "execution_count": 23,
   "id": "6f181f56",
   "metadata": {},
   "outputs": [],
   "source": [
    "a = {1,2,3,4}\n",
    "b = {2,4,6,7,8}"
   ]
  },
  {
   "cell_type": "code",
   "execution_count": 24,
   "id": "1b574903",
   "metadata": {},
   "outputs": [
    {
     "data": {
      "text/plain": [
       "{1, 3, 6, 7, 8}"
      ]
     },
     "execution_count": 24,
     "metadata": {},
     "output_type": "execute_result"
    }
   ],
   "source": [
    "a.symmetric_difference(b)"
   ]
  },
  {
   "cell_type": "code",
   "execution_count": 25,
   "id": "b0e3720e",
   "metadata": {},
   "outputs": [
    {
     "data": {
      "text/plain": [
       "{1, 3, 6, 7, 8}"
      ]
     },
     "execution_count": 25,
     "metadata": {},
     "output_type": "execute_result"
    }
   ],
   "source": [
    "b.symmetric_difference(a)"
   ]
  },
  {
   "cell_type": "markdown",
   "id": "b9540466",
   "metadata": {},
   "source": [
    "### symmetric_difference_update\n",
    "``It return set that contains a mix of items that are not present in both sets and also save the output.``"
   ]
  },
  {
   "cell_type": "code",
   "execution_count": 284,
   "id": "d9cd20d3",
   "metadata": {
    "scrolled": false
   },
   "outputs": [
    {
     "data": {
      "text/plain": [
       "{1, 2}"
      ]
     },
     "execution_count": 284,
     "metadata": {},
     "output_type": "execute_result"
    }
   ],
   "source": [
    "s1"
   ]
  },
  {
   "cell_type": "code",
   "execution_count": 285,
   "id": "fcfd30bd",
   "metadata": {
    "scrolled": false
   },
   "outputs": [
    {
     "data": {
      "text/plain": [
       "{4}"
      ]
     },
     "execution_count": 285,
     "metadata": {},
     "output_type": "execute_result"
    }
   ],
   "source": [
    "s2"
   ]
  },
  {
   "cell_type": "code",
   "execution_count": 286,
   "id": "696cdae4",
   "metadata": {},
   "outputs": [],
   "source": [
    "s1.symmetric_difference_update(s2) "
   ]
  },
  {
   "cell_type": "code",
   "execution_count": 287,
   "id": "bd3c8423",
   "metadata": {
    "scrolled": false
   },
   "outputs": [
    {
     "data": {
      "text/plain": [
       "{1, 2, 4}"
      ]
     },
     "execution_count": 287,
     "metadata": {},
     "output_type": "execute_result"
    }
   ],
   "source": [
    "s1"
   ]
  },
  {
   "cell_type": "code",
   "execution_count": 288,
   "id": "fec7edeb",
   "metadata": {},
   "outputs": [],
   "source": [
    "s2.symmetric_difference_update(s1)"
   ]
  },
  {
   "cell_type": "code",
   "execution_count": 289,
   "id": "6a476029",
   "metadata": {
    "scrolled": true
   },
   "outputs": [
    {
     "data": {
      "text/plain": [
       "{1, 2}"
      ]
     },
     "execution_count": 289,
     "metadata": {},
     "output_type": "execute_result"
    }
   ],
   "source": [
    "s2"
   ]
  },
  {
   "cell_type": "markdown",
   "id": "58bc6038",
   "metadata": {},
   "source": [
    "### Union\n",
    "`It updates union of itself with other set, and does not save the output, (It contains all items from the original set, and all items from the specified set)`"
   ]
  },
  {
   "cell_type": "code",
   "execution_count": 79,
   "id": "a75c8958",
   "metadata": {},
   "outputs": [],
   "source": [
    "b1= {'c', 'd', 'a'}\n",
    "b2= {'b', 'l', 'o', 'a', 'w'}"
   ]
  },
  {
   "cell_type": "code",
   "execution_count": 80,
   "id": "1c26b9fe",
   "metadata": {},
   "outputs": [
    {
     "data": {
      "text/plain": [
       "{'a', 'b', 'c', 'd', 'l', 'o', 'w'}"
      ]
     },
     "execution_count": 80,
     "metadata": {},
     "output_type": "execute_result"
    }
   ],
   "source": [
    "b1.union(b2)"
   ]
  },
  {
   "cell_type": "code",
   "execution_count": 81,
   "id": "696d150b",
   "metadata": {},
   "outputs": [
    {
     "data": {
      "text/plain": [
       "{'a', 'b', 'c', 'd', 'l', 'o', 'w'}"
      ]
     },
     "execution_count": 81,
     "metadata": {},
     "output_type": "execute_result"
    }
   ],
   "source": [
    "b2.union(b1)"
   ]
  },
  {
   "cell_type": "code",
   "execution_count": 82,
   "id": "93ccba92",
   "metadata": {
    "scrolled": true
   },
   "outputs": [
    {
     "ename": "TypeError",
     "evalue": "unsupported operand type(s) for +: 'set' and 'set'",
     "output_type": "error",
     "traceback": [
      "\u001b[1;31m---------------------------------------------------------------------------\u001b[0m",
      "\u001b[1;31mTypeError\u001b[0m                                 Traceback (most recent call last)",
      "Cell \u001b[1;32mIn[82], line 1\u001b[0m\n\u001b[1;32m----> 1\u001b[0m \u001b[43mb1\u001b[49m\u001b[38;5;241;43m+\u001b[39;49m\u001b[43mb2\u001b[49m\n",
      "\u001b[1;31mTypeError\u001b[0m: unsupported operand type(s) for +: 'set' and 'set'"
     ]
    }
   ],
   "source": [
    "b1+b2"
   ]
  },
  {
   "cell_type": "code",
   "execution_count": 44,
   "id": "73376f2a",
   "metadata": {},
   "outputs": [],
   "source": [
    "b1= {'c', 'd', 'a'}\n",
    "b2= {'b', 'l', 'o', 'c', 'a', 'w'}"
   ]
  },
  {
   "cell_type": "code",
   "execution_count": 45,
   "id": "98a4ef2d",
   "metadata": {},
   "outputs": [
    {
     "data": {
      "text/plain": [
       "{'a', 'b', 'c', 'd', 'l', 'o', 'w'}"
      ]
     },
     "execution_count": 45,
     "metadata": {},
     "output_type": "execute_result"
    }
   ],
   "source": [
    "b1.union(b2)"
   ]
  },
  {
   "cell_type": "code",
   "execution_count": 107,
   "id": "f3e53489",
   "metadata": {},
   "outputs": [
    {
     "data": {
      "text/plain": [
       "{1, 2}"
      ]
     },
     "execution_count": 107,
     "metadata": {},
     "output_type": "execute_result"
    }
   ],
   "source": [
    "s1"
   ]
  },
  {
   "cell_type": "code",
   "execution_count": 108,
   "id": "dc837fb4",
   "metadata": {
    "scrolled": true
   },
   "outputs": [
    {
     "data": {
      "text/plain": [
       "{1, 2, 4}"
      ]
     },
     "execution_count": 108,
     "metadata": {},
     "output_type": "execute_result"
    }
   ],
   "source": [
    "s2"
   ]
  },
  {
   "cell_type": "code",
   "execution_count": 109,
   "id": "4b9bb6e1",
   "metadata": {
    "scrolled": true
   },
   "outputs": [
    {
     "data": {
      "text/plain": [
       "{1, 2, 4}"
      ]
     },
     "execution_count": 109,
     "metadata": {},
     "output_type": "execute_result"
    }
   ],
   "source": [
    "s1.union(s2)"
   ]
  },
  {
   "cell_type": "code",
   "execution_count": 308,
   "id": "c00b604e",
   "metadata": {},
   "outputs": [
    {
     "data": {
      "text/plain": [
       "{4, 5}"
      ]
     },
     "execution_count": 308,
     "metadata": {},
     "output_type": "execute_result"
    }
   ],
   "source": [
    "s4"
   ]
  },
  {
   "cell_type": "code",
   "execution_count": 309,
   "id": "d401b801",
   "metadata": {},
   "outputs": [
    {
     "data": {
      "text/plain": [
       "{1, 2, 4, 5}"
      ]
     },
     "execution_count": 309,
     "metadata": {},
     "output_type": "execute_result"
    }
   ],
   "source": [
    "s4.union(s1)"
   ]
  },
  {
   "cell_type": "markdown",
   "id": "99f20e00",
   "metadata": {},
   "source": [
    "### update (union_update)\n",
    "`It updates union of itself with other set, and save the output`"
   ]
  },
  {
   "cell_type": "code",
   "execution_count": 110,
   "id": "65cb59bc",
   "metadata": {
    "scrolled": true
   },
   "outputs": [
    {
     "data": {
      "text/plain": [
       "{1, 2}"
      ]
     },
     "execution_count": 110,
     "metadata": {},
     "output_type": "execute_result"
    }
   ],
   "source": [
    "s1"
   ]
  },
  {
   "cell_type": "code",
   "execution_count": 111,
   "id": "0e96ea29",
   "metadata": {
    "scrolled": false
   },
   "outputs": [
    {
     "data": {
      "text/plain": [
       "{1, 2, 4}"
      ]
     },
     "execution_count": 111,
     "metadata": {},
     "output_type": "execute_result"
    }
   ],
   "source": [
    "s2"
   ]
  },
  {
   "cell_type": "code",
   "execution_count": 112,
   "id": "f2f01f6c",
   "metadata": {},
   "outputs": [],
   "source": [
    "s1.update(s2)"
   ]
  },
  {
   "cell_type": "code",
   "execution_count": 113,
   "id": "bf14a965",
   "metadata": {},
   "outputs": [
    {
     "data": {
      "text/plain": [
       "{1, 2, 4}"
      ]
     },
     "execution_count": 113,
     "metadata": {},
     "output_type": "execute_result"
    }
   ],
   "source": [
    "s1"
   ]
  },
  {
   "cell_type": "code",
   "execution_count": 311,
   "id": "7b915e42",
   "metadata": {},
   "outputs": [],
   "source": [
    "s2.update(s1) "
   ]
  },
  {
   "cell_type": "code",
   "execution_count": 312,
   "id": "14f1cbf4",
   "metadata": {
    "scrolled": true
   },
   "outputs": [
    {
     "data": {
      "text/plain": [
       "{1, 2, 4}"
      ]
     },
     "execution_count": 312,
     "metadata": {},
     "output_type": "execute_result"
    }
   ],
   "source": [
    "s2"
   ]
  },
  {
   "cell_type": "code",
   "execution_count": 114,
   "id": "72f49776",
   "metadata": {
    "scrolled": true
   },
   "outputs": [
    {
     "data": {
      "text/plain": [
       "{5}"
      ]
     },
     "execution_count": 114,
     "metadata": {},
     "output_type": "execute_result"
    }
   ],
   "source": [
    "s3"
   ]
  },
  {
   "cell_type": "code",
   "execution_count": 115,
   "id": "ea778730",
   "metadata": {},
   "outputs": [
    {
     "data": {
      "text/plain": [
       "{4, 5}"
      ]
     },
     "execution_count": 115,
     "metadata": {},
     "output_type": "execute_result"
    }
   ],
   "source": [
    "s4"
   ]
  },
  {
   "cell_type": "code",
   "execution_count": 116,
   "id": "844c614c",
   "metadata": {},
   "outputs": [],
   "source": [
    "s4.update(s3)"
   ]
  },
  {
   "cell_type": "code",
   "execution_count": 117,
   "id": "d0f3f9f1",
   "metadata": {
    "scrolled": false
   },
   "outputs": [
    {
     "data": {
      "text/plain": [
       "{4, 5}"
      ]
     },
     "execution_count": 117,
     "metadata": {},
     "output_type": "execute_result"
    }
   ],
   "source": [
    "s4"
   ]
  },
  {
   "cell_type": "code",
   "execution_count": 118,
   "id": "3897a1c6",
   "metadata": {},
   "outputs": [],
   "source": [
    "s2.update(s4)"
   ]
  },
  {
   "cell_type": "code",
   "execution_count": 119,
   "id": "798e819a",
   "metadata": {
    "scrolled": true
   },
   "outputs": [
    {
     "data": {
      "text/plain": [
       "{1, 2, 4, 5}"
      ]
     },
     "execution_count": 119,
     "metadata": {},
     "output_type": "execute_result"
    }
   ],
   "source": [
    "s2"
   ]
  },
  {
   "cell_type": "markdown",
   "id": "64f409c4",
   "metadata": {},
   "source": [
    "# Boolean\n",
    "`Boolean type is one of the built-in data types, which represents one of the two values i.e. True or False.`"
   ]
  },
  {
   "cell_type": "code",
   "execution_count": 19,
   "id": "cd357fcd",
   "metadata": {
    "scrolled": true
   },
   "outputs": [
    {
     "data": {
      "text/plain": [
       "True"
      ]
     },
     "execution_count": 19,
     "metadata": {},
     "output_type": "execute_result"
    }
   ],
   "source": [
    "True"
   ]
  },
  {
   "cell_type": "code",
   "execution_count": 20,
   "id": "49824d7d",
   "metadata": {},
   "outputs": [
    {
     "data": {
      "text/plain": [
       "False"
      ]
     },
     "execution_count": 20,
     "metadata": {},
     "output_type": "execute_result"
    }
   ],
   "source": [
    "False"
   ]
  },
  {
   "cell_type": "code",
   "execution_count": 23,
   "id": "43c4f453",
   "metadata": {},
   "outputs": [
    {
     "data": {
      "text/plain": [
       "False"
      ]
     },
     "execution_count": 23,
     "metadata": {},
     "output_type": "execute_result"
    }
   ],
   "source": [
    "not True"
   ]
  },
  {
   "cell_type": "code",
   "execution_count": 24,
   "id": "03c3efea",
   "metadata": {
    "scrolled": true
   },
   "outputs": [
    {
     "data": {
      "text/plain": [
       "True"
      ]
     },
     "execution_count": 24,
     "metadata": {},
     "output_type": "execute_result"
    }
   ],
   "source": [
    "not False"
   ]
  },
  {
   "cell_type": "code",
   "execution_count": 25,
   "id": "2e6e55d7",
   "metadata": {
    "scrolled": true
   },
   "outputs": [
    {
     "data": {
      "text/plain": [
       "True"
      ]
     },
     "execution_count": 25,
     "metadata": {},
     "output_type": "execute_result"
    }
   ],
   "source": [
    "True == True"
   ]
  },
  {
   "cell_type": "code",
   "execution_count": 26,
   "id": "994d9551",
   "metadata": {},
   "outputs": [
    {
     "data": {
      "text/plain": [
       "True"
      ]
     },
     "execution_count": 26,
     "metadata": {},
     "output_type": "execute_result"
    }
   ],
   "source": [
    "False == False"
   ]
  },
  {
   "cell_type": "code",
   "execution_count": 27,
   "id": "2e8d192b",
   "metadata": {},
   "outputs": [
    {
     "data": {
      "text/plain": [
       "False"
      ]
     },
     "execution_count": 27,
     "metadata": {},
     "output_type": "execute_result"
    }
   ],
   "source": [
    "True == False"
   ]
  },
  {
   "cell_type": "code",
   "execution_count": 28,
   "id": "1ff2af98",
   "metadata": {
    "scrolled": true
   },
   "outputs": [
    {
     "data": {
      "text/plain": [
       "True"
      ]
     },
     "execution_count": 28,
     "metadata": {},
     "output_type": "execute_result"
    }
   ],
   "source": [
    "'i' in 'aeiou'"
   ]
  },
  {
   "cell_type": "code",
   "execution_count": 29,
   "id": "b9708984",
   "metadata": {
    "scrolled": true
   },
   "outputs": [
    {
     "data": {
      "text/plain": [
       "False"
      ]
     },
     "execution_count": 29,
     "metadata": {},
     "output_type": "execute_result"
    }
   ],
   "source": [
    "'v' in 'aeiou'"
   ]
  },
  {
   "cell_type": "code",
   "execution_count": 51,
   "id": "93cf1e87",
   "metadata": {
    "scrolled": true
   },
   "outputs": [
    {
     "data": {
      "text/plain": [
       "True"
      ]
     },
     "execution_count": 51,
     "metadata": {},
     "output_type": "execute_result"
    }
   ],
   "source": [
    "'v' not in 'aeiou'"
   ]
  }
 ],
 "metadata": {
  "kernelspec": {
   "display_name": "Python 3 (ipykernel)",
   "language": "python",
   "name": "python3"
  },
  "language_info": {
   "codemirror_mode": {
    "name": "ipython",
    "version": 3
   },
   "file_extension": ".py",
   "mimetype": "text/x-python",
   "name": "python",
   "nbconvert_exporter": "python",
   "pygments_lexer": "ipython3",
   "version": "3.10.13"
  }
 },
 "nbformat": 4,
 "nbformat_minor": 5
}
